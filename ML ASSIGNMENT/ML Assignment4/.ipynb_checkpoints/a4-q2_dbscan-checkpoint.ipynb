{
 "cells": [
  {
   "cell_type": "code",
   "execution_count": 1,
   "id": "570eed96-f89c-4ff2-963b-15319180ddcd",
   "metadata": {},
   "outputs": [],
   "source": [
    "import pandas as pd\n",
    "import numpy as np\n",
    "import matplotlib.pyplot as plt"
   ]
  },
  {
   "cell_type": "code",
   "execution_count": 1,
   "id": "48b9cc10-0016-4a98-b0a9-fb0bfacd05d9",
   "metadata": {},
   "outputs": [
    {
     "ename": "NameError",
     "evalue": "name 'pd' is not defined",
     "output_type": "error",
     "traceback": [
      "\u001b[1;31m---------------------------------------------------------------------------\u001b[0m",
      "\u001b[1;31mNameError\u001b[0m                                 Traceback (most recent call last)",
      "Cell \u001b[1;32mIn[1], line 1\u001b[0m\n\u001b[1;32m----> 1\u001b[0m crime_df \u001b[38;5;241m=\u001b[39m \u001b[43mpd\u001b[49m\u001b[38;5;241m.\u001b[39mread_csv(\u001b[38;5;124m'\u001b[39m\u001b[38;5;124mcrime_std.csv\u001b[39m\u001b[38;5;124m'\u001b[39m)\n",
      "\u001b[1;31mNameError\u001b[0m: name 'pd' is not defined"
     ]
    }
   ],
   "source": [
    "crime_df = pd.read_csv('crime_std.csv')"
   ]
  },
  {
   "cell_type": "code",
   "execution_count": 3,
   "id": "12e9d1fd-2110-4987-84ab-b767df230115",
   "metadata": {},
   "outputs": [
    {
     "data": {
      "text/html": [
       "<div>\n",
       "<style scoped>\n",
       "    .dataframe tbody tr th:only-of-type {\n",
       "        vertical-align: middle;\n",
       "    }\n",
       "\n",
       "    .dataframe tbody tr th {\n",
       "        vertical-align: top;\n",
       "    }\n",
       "\n",
       "    .dataframe thead th {\n",
       "        text-align: right;\n",
       "    }\n",
       "</style>\n",
       "<table border=\"1\" class=\"dataframe\">\n",
       "  <thead>\n",
       "    <tr style=\"text-align: right;\">\n",
       "      <th></th>\n",
       "      <th>Unnamed: 0</th>\n",
       "      <th>Murder</th>\n",
       "      <th>Assault</th>\n",
       "      <th>UrbanPop</th>\n",
       "      <th>Rape</th>\n",
       "    </tr>\n",
       "  </thead>\n",
       "  <tbody>\n",
       "    <tr>\n",
       "      <th>0</th>\n",
       "      <td>0</td>\n",
       "      <td>0.746988</td>\n",
       "      <td>0.654110</td>\n",
       "      <td>0.440678</td>\n",
       "      <td>0.359173</td>\n",
       "    </tr>\n",
       "    <tr>\n",
       "      <th>1</th>\n",
       "      <td>1</td>\n",
       "      <td>0.554217</td>\n",
       "      <td>0.746575</td>\n",
       "      <td>0.271186</td>\n",
       "      <td>0.961240</td>\n",
       "    </tr>\n",
       "    <tr>\n",
       "      <th>2</th>\n",
       "      <td>2</td>\n",
       "      <td>0.439759</td>\n",
       "      <td>0.852740</td>\n",
       "      <td>0.813559</td>\n",
       "      <td>0.612403</td>\n",
       "    </tr>\n",
       "    <tr>\n",
       "      <th>3</th>\n",
       "      <td>3</td>\n",
       "      <td>0.481928</td>\n",
       "      <td>0.496575</td>\n",
       "      <td>0.305085</td>\n",
       "      <td>0.315245</td>\n",
       "    </tr>\n",
       "    <tr>\n",
       "      <th>4</th>\n",
       "      <td>4</td>\n",
       "      <td>0.493976</td>\n",
       "      <td>0.791096</td>\n",
       "      <td>1.000000</td>\n",
       "      <td>0.860465</td>\n",
       "    </tr>\n",
       "  </tbody>\n",
       "</table>\n",
       "</div>"
      ],
      "text/plain": [
       "   Unnamed: 0    Murder   Assault  UrbanPop      Rape\n",
       "0           0  0.746988  0.654110  0.440678  0.359173\n",
       "1           1  0.554217  0.746575  0.271186  0.961240\n",
       "2           2  0.439759  0.852740  0.813559  0.612403\n",
       "3           3  0.481928  0.496575  0.305085  0.315245\n",
       "4           4  0.493976  0.791096  1.000000  0.860465"
      ]
     },
     "execution_count": 3,
     "metadata": {},
     "output_type": "execute_result"
    }
   ],
   "source": [
    "crime_df.head()"
   ]
  },
  {
   "cell_type": "markdown",
   "id": "cbd86726-0e1a-43d6-87f9-8ed5b855dc78",
   "metadata": {},
   "source": [
    "## EDA"
   ]
  },
  {
   "cell_type": "code",
   "execution_count": 4,
   "id": "0fd1ec61-6cbd-437b-8a0b-56767ee981f7",
   "metadata": {},
   "outputs": [
    {
     "name": "stdout",
     "output_type": "stream",
     "text": [
      "<class 'pandas.core.frame.DataFrame'>\n",
      "RangeIndex: 50 entries, 0 to 49\n",
      "Data columns (total 5 columns):\n",
      " #   Column      Non-Null Count  Dtype  \n",
      "---  ------      --------------  -----  \n",
      " 0   Unnamed: 0  50 non-null     int64  \n",
      " 1   Murder      50 non-null     float64\n",
      " 2   Assault     50 non-null     float64\n",
      " 3   UrbanPop    50 non-null     float64\n",
      " 4   Rape        50 non-null     float64\n",
      "dtypes: float64(4), int64(1)\n",
      "memory usage: 2.1 KB\n"
     ]
    }
   ],
   "source": [
    "crime_df.info()"
   ]
  },
  {
   "cell_type": "code",
   "execution_count": 5,
   "id": "137abf15-096a-4faa-9ed2-e9fa477ec019",
   "metadata": {},
   "outputs": [
    {
     "data": {
      "text/html": [
       "<div>\n",
       "<style scoped>\n",
       "    .dataframe tbody tr th:only-of-type {\n",
       "        vertical-align: middle;\n",
       "    }\n",
       "\n",
       "    .dataframe tbody tr th {\n",
       "        vertical-align: top;\n",
       "    }\n",
       "\n",
       "    .dataframe thead th {\n",
       "        text-align: right;\n",
       "    }\n",
       "</style>\n",
       "<table border=\"1\" class=\"dataframe\">\n",
       "  <thead>\n",
       "    <tr style=\"text-align: right;\">\n",
       "      <th></th>\n",
       "      <th>Unnamed: 0</th>\n",
       "      <th>Murder</th>\n",
       "      <th>Assault</th>\n",
       "      <th>UrbanPop</th>\n",
       "      <th>Rape</th>\n",
       "    </tr>\n",
       "  </thead>\n",
       "  <tbody>\n",
       "    <tr>\n",
       "      <th>count</th>\n",
       "      <td>50.00000</td>\n",
       "      <td>50.000000</td>\n",
       "      <td>50.000000</td>\n",
       "      <td>50.000000</td>\n",
       "      <td>50.000000</td>\n",
       "    </tr>\n",
       "    <tr>\n",
       "      <th>mean</th>\n",
       "      <td>24.50000</td>\n",
       "      <td>0.420964</td>\n",
       "      <td>0.430685</td>\n",
       "      <td>0.568475</td>\n",
       "      <td>0.360000</td>\n",
       "    </tr>\n",
       "    <tr>\n",
       "      <th>std</th>\n",
       "      <td>14.57738</td>\n",
       "      <td>0.262380</td>\n",
       "      <td>0.285403</td>\n",
       "      <td>0.245335</td>\n",
       "      <td>0.242025</td>\n",
       "    </tr>\n",
       "    <tr>\n",
       "      <th>min</th>\n",
       "      <td>0.00000</td>\n",
       "      <td>0.000000</td>\n",
       "      <td>0.000000</td>\n",
       "      <td>0.000000</td>\n",
       "      <td>0.000000</td>\n",
       "    </tr>\n",
       "    <tr>\n",
       "      <th>25%</th>\n",
       "      <td>12.25000</td>\n",
       "      <td>0.197289</td>\n",
       "      <td>0.219178</td>\n",
       "      <td>0.381356</td>\n",
       "      <td>0.200904</td>\n",
       "    </tr>\n",
       "    <tr>\n",
       "      <th>50%</th>\n",
       "      <td>24.50000</td>\n",
       "      <td>0.388554</td>\n",
       "      <td>0.390411</td>\n",
       "      <td>0.576271</td>\n",
       "      <td>0.330749</td>\n",
       "    </tr>\n",
       "    <tr>\n",
       "      <th>75%</th>\n",
       "      <td>36.75000</td>\n",
       "      <td>0.629518</td>\n",
       "      <td>0.698630</td>\n",
       "      <td>0.775424</td>\n",
       "      <td>0.487726</td>\n",
       "    </tr>\n",
       "    <tr>\n",
       "      <th>max</th>\n",
       "      <td>49.00000</td>\n",
       "      <td>1.000000</td>\n",
       "      <td>1.000000</td>\n",
       "      <td>1.000000</td>\n",
       "      <td>1.000000</td>\n",
       "    </tr>\n",
       "  </tbody>\n",
       "</table>\n",
       "</div>"
      ],
      "text/plain": [
       "       Unnamed: 0     Murder    Assault   UrbanPop       Rape\n",
       "count    50.00000  50.000000  50.000000  50.000000  50.000000\n",
       "mean     24.50000   0.420964   0.430685   0.568475   0.360000\n",
       "std      14.57738   0.262380   0.285403   0.245335   0.242025\n",
       "min       0.00000   0.000000   0.000000   0.000000   0.000000\n",
       "25%      12.25000   0.197289   0.219178   0.381356   0.200904\n",
       "50%      24.50000   0.388554   0.390411   0.576271   0.330749\n",
       "75%      36.75000   0.629518   0.698630   0.775424   0.487726\n",
       "max      49.00000   1.000000   1.000000   1.000000   1.000000"
      ]
     },
     "execution_count": 5,
     "metadata": {},
     "output_type": "execute_result"
    }
   ],
   "source": [
    "crime_df.describe()"
   ]
  },
  {
   "cell_type": "code",
   "execution_count": 6,
   "id": "3906e935-54b9-42b4-ad8c-7a94904a3573",
   "metadata": {},
   "outputs": [],
   "source": [
    "crime_df.drop(['Unnamed: 0'], axis=1, inplace=True)"
   ]
  },
  {
   "cell_type": "markdown",
   "id": "468ef1ac-5446-4f5e-af98-e596b1e84680",
   "metadata": {},
   "source": [
    "## DBScan"
   ]
  },
  {
   "cell_type": "code",
   "execution_count": 17,
   "id": "22cfa5d3-2c13-4d26-a874-f15c56865b87",
   "metadata": {},
   "outputs": [],
   "source": [
    "from itertools import product\n",
    "from sklearn.cluster import DBSCAN\n",
    "from sklearn.metrics import silhouette_score"
   ]
  },
  {
   "cell_type": "code",
   "execution_count": 22,
   "id": "a83ca012-649b-4e1e-b9d2-6f7214d00769",
   "metadata": {},
   "outputs": [],
   "source": [
    "eps_ = np.arange(0.3, 1.1, 0.1)\n",
    "min_samples = np.arange(3, 13)\n",
    "\n",
    "params = product(eps_, min_samples)"
   ]
  },
  {
   "cell_type": "code",
   "execution_count": 23,
   "id": "a7b6f11e-6f94-4521-9137-23fc03bf1adf",
   "metadata": {},
   "outputs": [
    {
     "name": "stdout",
     "output_type": "stream",
     "text": [
      "eps = 0.30, min_samples = 3, cluster_count = 3, score = 0.25\n",
      "eps = 0.30, min_samples = 4, cluster_count = 3, score = 0.25\n",
      "eps = 0.30, min_samples = 5, cluster_count = 3, score = 0.28\n",
      "eps = 0.30, min_samples = 6, cluster_count = 2, score = 0.36\n",
      "eps = 0.30, min_samples = 7, cluster_count = 2, score = 0.38\n",
      "eps = 0.30, min_samples = 8, cluster_count = 2, score = 0.36\n",
      "eps = 0.30, min_samples = 9, cluster_count = 2, score = 0.36\n",
      "eps = 0.30, min_samples = 10, cluster_count = 2, score = 0.21\n",
      "eps = 0.30, min_samples = 11, cluster_count = 2, score = 0.20\n",
      "eps = 0.30, min_samples = 12, cluster_count = 2, score = 0.11\n",
      "eps = 0.40, min_samples = 3, cluster_count = 2, score = 0.21\n",
      "eps = 0.40, min_samples = 4, cluster_count = 2, score = 0.21\n",
      "eps = 0.40, min_samples = 5, cluster_count = 2, score = 0.21\n",
      "eps = 0.40, min_samples = 6, cluster_count = 2, score = 0.21\n",
      "eps = 0.40, min_samples = 7, cluster_count = 2, score = 0.21\n",
      "eps = 0.40, min_samples = 8, cluster_count = 2, score = 0.22\n",
      "eps = 0.40, min_samples = 9, cluster_count = 2, score = 0.22\n",
      "eps = 0.40, min_samples = 10, cluster_count = 2, score = 0.25\n",
      "eps = 0.40, min_samples = 11, cluster_count = 2, score = 0.25\n",
      "eps = 0.40, min_samples = 12, cluster_count = 2, score = 0.25\n",
      "eps = 0.50, min_samples = 3, cluster_count = 2, score = 0.21\n",
      "eps = 0.50, min_samples = 4, cluster_count = 2, score = 0.21\n",
      "eps = 0.50, min_samples = 5, cluster_count = 2, score = 0.21\n",
      "eps = 0.50, min_samples = 6, cluster_count = 2, score = 0.21\n",
      "eps = 0.50, min_samples = 7, cluster_count = 2, score = 0.21\n",
      "eps = 0.50, min_samples = 8, cluster_count = 2, score = 0.21\n",
      "eps = 0.50, min_samples = 9, cluster_count = 2, score = 0.21\n",
      "eps = 0.50, min_samples = 10, cluster_count = 2, score = 0.21\n",
      "eps = 0.50, min_samples = 11, cluster_count = 2, score = 0.21\n",
      "eps = 0.50, min_samples = 12, cluster_count = 2, score = 0.21\n",
      "cluster count is very small\n",
      "cluster count is very small\n",
      "cluster count is very small\n",
      "cluster count is very small\n",
      "cluster count is very small\n",
      "cluster count is very small\n",
      "cluster count is very small\n",
      "cluster count is very small\n",
      "cluster count is very small\n",
      "cluster count is very small\n",
      "cluster count is very small\n",
      "cluster count is very small\n",
      "cluster count is very small\n",
      "cluster count is very small\n",
      "cluster count is very small\n",
      "cluster count is very small\n",
      "cluster count is very small\n",
      "cluster count is very small\n",
      "cluster count is very small\n",
      "cluster count is very small\n",
      "cluster count is very small\n",
      "cluster count is very small\n",
      "cluster count is very small\n",
      "cluster count is very small\n",
      "cluster count is very small\n",
      "cluster count is very small\n",
      "cluster count is very small\n",
      "cluster count is very small\n",
      "cluster count is very small\n",
      "cluster count is very small\n",
      "cluster count is very small\n",
      "cluster count is very small\n",
      "cluster count is very small\n",
      "cluster count is very small\n",
      "cluster count is very small\n",
      "cluster count is very small\n",
      "cluster count is very small\n",
      "cluster count is very small\n",
      "cluster count is very small\n",
      "cluster count is very small\n",
      "cluster count is very small\n",
      "cluster count is very small\n",
      "cluster count is very small\n",
      "cluster count is very small\n",
      "cluster count is very small\n",
      "cluster count is very small\n",
      "cluster count is very small\n",
      "cluster count is very small\n",
      "cluster count is very small\n",
      "cluster count is very small\n"
     ]
    }
   ],
   "source": [
    "for eps, min_sample in params:\n",
    "    db = DBSCAN(eps=eps, min_samples=min_sample).fit(crime_df)\n",
    "    labels = db.labels_\n",
    "    cluster_count = len(set(labels))\n",
    "\n",
    "    if cluster_count > 1:\n",
    "        silhouette = silhouette_score(crime_df, labels)\n",
    "        print(f\"eps = {eps:.2f}, min_samples = {min_sample}, cluster_count = {cluster_count}, score = {silhouette:.2f}\")\n",
    "    else:\n",
    "        print(\"cluster count is very small\")"
   ]
  },
  {
   "cell_type": "code",
   "execution_count": 26,
   "id": "bd173630-76a7-465f-80b6-d8d2b1fe3d15",
   "metadata": {},
   "outputs": [],
   "source": [
    "model = DBSCAN(eps=0.3, min_samples=7).fit(crime_df)"
   ]
  },
  {
   "cell_type": "code",
   "execution_count": 25,
   "id": "c1c02afd-d58d-4b03-a506-b70d171e09c2",
   "metadata": {},
   "outputs": [
    {
     "data": {
      "text/plain": [
       "Index(['Murder', 'Assault', 'UrbanPop', 'Rape'], dtype='object')"
      ]
     },
     "execution_count": 25,
     "metadata": {},
     "output_type": "execute_result"
    }
   ],
   "source": [
    "crime_df.columns"
   ]
  },
  {
   "cell_type": "code",
   "execution_count": 29,
   "id": "7c90f17f-5142-4759-93d5-2a61d15cbb0f",
   "metadata": {},
   "outputs": [
    {
     "data": {
      "image/png": "[encoded data removed]",
      "text/plain": [
       "<Figure size 640x480 with 1 Axes>"
      ]
     },
     "metadata": {},
     "output_type": "display_data"
    }
   ],
   "source": [
    "plt.xlabel('Murder')\n",
    "plt.ylabel('UrbanPop')\n",
    "plt.title('Murder vs UrbanPop')\n",
    "\n",
    "for i in range(2):\n",
    "    plt.scatter(\n",
    "        crime_df['Murder'][model.labels_ == i],\n",
    "        crime_df['UrbanPop'][model.labels_ == i],\n",
    "        label=f'Cluster {i}'\n",
    "    )\n",
    "\n",
    "plt.legend();"
   ]
  },
  {
   "cell_type": "code",
   "execution_count": null,
   "id": "27aa0855-9ecc-4c5c-b089-763a750a658e",
   "metadata": {},
   "outputs": [],
   "source": []
  }
 ],
 "metadata": {
  "kernelspec": {
   "display_name": "Python 3 (ipykernel)",
   "language": "python",
   "name": "python3"
  },
  "language_info": {
   "codemirror_mode": {
    "name": "ipython",
    "version": 3
   },
   "file_extension": ".py",
   "mimetype": "text/x-python",
   "name": "python",
   "nbconvert_exporter": "python",
   "pygments_lexer": "ipython3",
   "version": "3.11.5"
  }
 },
 "nbformat": 4,
 "nbformat_minor": 5
}
