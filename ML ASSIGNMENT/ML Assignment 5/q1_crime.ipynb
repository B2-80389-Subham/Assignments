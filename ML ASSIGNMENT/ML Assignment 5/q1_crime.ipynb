{
 "cells": [
  {
   "cell_type": "code",
   "execution_count": 1,
   "id": "f9e82a57-210e-4abe-9747-5814c6930082",
   "metadata": {},
   "outputs": [],
   "source": [
    "import pandas as pd\n",
    "import numpy as np\n",
    "import matplotlib.pyplot as plt\n",
    "import seaborn as sns"
   ]
  },
  {
   "cell_type": "code",
   "execution_count": 1,
   "id": "08dc73eb-af2e-4159-a159-7f5e3033949f",
   "metadata": {},
   "outputs": [
    {
     "ename": "NameError",
     "evalue": "name 'pd' is not defined",
     "output_type": "error",
     "traceback": [
      "\u001b[1;31m---------------------------------------------------------------------------\u001b[0m",
      "\u001b[1;31mNameError\u001b[0m                                 Traceback (most recent call last)",
      "Cell \u001b[1;32mIn[1], line 1\u001b[0m\n\u001b[1;32m----> 1\u001b[0m crime_df \u001b[38;5;241m=\u001b[39m \u001b[43mpd\u001b[49m\u001b[38;5;241m.\u001b[39mread_csv(\u001b[38;5;124m'\u001b[39m\u001b[38;5;124mcrime_std.csv\u001b[39m\u001b[38;5;124m'\u001b[39m)\n",
      "\u001b[1;31mNameError\u001b[0m: name 'pd' is not defined"
     ]
    }
   ],
   "source": [
    "crime_df = pd.read_csv('crime_std.csv')"
   ]
  },
  {
   "cell_type": "code",
   "execution_count": 3,
   "id": "db390ee2-6b39-440f-bc71-9b4f08fb0230",
   "metadata": {},
   "outputs": [
    {
     "name": "stdout",
     "output_type": "stream",
     "text": [
      "<class 'pandas.core.frame.DataFrame'>\n",
      "RangeIndex: 50 entries, 0 to 49\n",
      "Data columns (total 5 columns):\n",
      " #   Column      Non-Null Count  Dtype  \n",
      "---  ------      --------------  -----  \n",
      " 0   Unnamed: 0  50 non-null     int64  \n",
      " 1   Murder      50 non-null     float64\n",
      " 2   Assault     50 non-null     float64\n",
      " 3   UrbanPop    50 non-null     float64\n",
      " 4   Rape        50 non-null     float64\n",
      "dtypes: float64(4), int64(1)\n",
      "memory usage: 2.1 KB\n"
     ]
    }
   ],
   "source": [
    "crime_df.info()"
   ]
  },
  {
   "cell_type": "code",
   "execution_count": 4,
   "id": "11bc8d54-1018-4aa3-88af-e5770b0166e6",
   "metadata": {},
   "outputs": [
    {
     "data": {
      "text/html": [
       "<div>\n",
       "<style scoped>\n",
       "    .dataframe tbody tr th:only-of-type {\n",
       "        vertical-align: middle;\n",
       "    }\n",
       "\n",
       "    .dataframe tbody tr th {\n",
       "        vertical-align: top;\n",
       "    }\n",
       "\n",
       "    .dataframe thead th {\n",
       "        text-align: right;\n",
       "    }\n",
       "</style>\n",
       "<table border=\"1\" class=\"dataframe\">\n",
       "  <thead>\n",
       "    <tr style=\"text-align: right;\">\n",
       "      <th></th>\n",
       "      <th>Unnamed: 0</th>\n",
       "      <th>Murder</th>\n",
       "      <th>Assault</th>\n",
       "      <th>UrbanPop</th>\n",
       "      <th>Rape</th>\n",
       "    </tr>\n",
       "  </thead>\n",
       "  <tbody>\n",
       "    <tr>\n",
       "      <th>count</th>\n",
       "      <td>50.00000</td>\n",
       "      <td>50.000000</td>\n",
       "      <td>50.000000</td>\n",
       "      <td>50.000000</td>\n",
       "      <td>50.000000</td>\n",
       "    </tr>\n",
       "    <tr>\n",
       "      <th>mean</th>\n",
       "      <td>24.50000</td>\n",
       "      <td>0.420964</td>\n",
       "      <td>0.430685</td>\n",
       "      <td>0.568475</td>\n",
       "      <td>0.360000</td>\n",
       "    </tr>\n",
       "    <tr>\n",
       "      <th>std</th>\n",
       "      <td>14.57738</td>\n",
       "      <td>0.262380</td>\n",
       "      <td>0.285403</td>\n",
       "      <td>0.245335</td>\n",
       "      <td>0.242025</td>\n",
       "    </tr>\n",
       "    <tr>\n",
       "      <th>min</th>\n",
       "      <td>0.00000</td>\n",
       "      <td>0.000000</td>\n",
       "      <td>0.000000</td>\n",
       "      <td>0.000000</td>\n",
       "      <td>0.000000</td>\n",
       "    </tr>\n",
       "    <tr>\n",
       "      <th>25%</th>\n",
       "      <td>12.25000</td>\n",
       "      <td>0.197289</td>\n",
       "      <td>0.219178</td>\n",
       "      <td>0.381356</td>\n",
       "      <td>0.200904</td>\n",
       "    </tr>\n",
       "    <tr>\n",
       "      <th>50%</th>\n",
       "      <td>24.50000</td>\n",
       "      <td>0.388554</td>\n",
       "      <td>0.390411</td>\n",
       "      <td>0.576271</td>\n",
       "      <td>0.330749</td>\n",
       "    </tr>\n",
       "    <tr>\n",
       "      <th>75%</th>\n",
       "      <td>36.75000</td>\n",
       "      <td>0.629518</td>\n",
       "      <td>0.698630</td>\n",
       "      <td>0.775424</td>\n",
       "      <td>0.487726</td>\n",
       "    </tr>\n",
       "    <tr>\n",
       "      <th>max</th>\n",
       "      <td>49.00000</td>\n",
       "      <td>1.000000</td>\n",
       "      <td>1.000000</td>\n",
       "      <td>1.000000</td>\n",
       "      <td>1.000000</td>\n",
       "    </tr>\n",
       "  </tbody>\n",
       "</table>\n",
       "</div>"
      ],
      "text/plain": [
       "       Unnamed: 0     Murder    Assault   UrbanPop       Rape\n",
       "count    50.00000  50.000000  50.000000  50.000000  50.000000\n",
       "mean     24.50000   0.420964   0.430685   0.568475   0.360000\n",
       "std      14.57738   0.262380   0.285403   0.245335   0.242025\n",
       "min       0.00000   0.000000   0.000000   0.000000   0.000000\n",
       "25%      12.25000   0.197289   0.219178   0.381356   0.200904\n",
       "50%      24.50000   0.388554   0.390411   0.576271   0.330749\n",
       "75%      36.75000   0.629518   0.698630   0.775424   0.487726\n",
       "max      49.00000   1.000000   1.000000   1.000000   1.000000"
      ]
     },
     "execution_count": 4,
     "metadata": {},
     "output_type": "execute_result"
    }
   ],
   "source": [
    "crime_df.describe()"
   ]
  },
  {
   "cell_type": "code",
   "execution_count": 5,
   "id": "f7b6a034-e973-499f-8d8a-707f797dd90e",
   "metadata": {},
   "outputs": [],
   "source": [
    "crime_df.drop(['Unnamed: 0'], axis=1, inplace=True)"
   ]
  },
  {
   "cell_type": "code",
   "execution_count": 6,
   "id": "2cd73f14-5b80-409d-9b00-6bb47955efdd",
   "metadata": {},
   "outputs": [],
   "source": [
    "from sklearn.decomposition import PCA"
   ]
  },
  {
   "cell_type": "code",
   "execution_count": 7,
   "id": "fc706739-67b8-4e7e-b578-c5779f880625",
   "metadata": {},
   "outputs": [],
   "source": [
    "pca = PCA(n_components=2)\n",
    "\n",
    "crime_reduced = pca.fit_transform(crime_df)"
   ]
  },
  {
   "cell_type": "code",
   "execution_count": 8,
   "id": "c115bbfa-91df-4c69-880e-12b5311aed78",
   "metadata": {},
   "outputs": [
    {
     "data": {
      "text/plain": [
       "array([[ 0.29308154,  0.27317675],\n",
       "       [ 0.49729939,  0.22549848],\n",
       "       [ 0.46030222, -0.20137959],\n",
       "       [-0.00600344,  0.27569832],\n",
       "       [ 0.61201638, -0.40998459],\n",
       "       [ 0.34232314, -0.26810129],\n",
       "       [-0.36348715, -0.24833813],\n",
       "       [ 0.04424396, -0.07374598],\n",
       "       [ 0.80292705, -0.01467209],\n",
       "       [ 0.44112938,  0.30157847],\n",
       "       [-0.30290366, -0.37766352],\n",
       "       [-0.41549962,  0.0656169 ],\n",
       "       [ 0.36148248, -0.1749245 ],\n",
       "       [-0.15214187, -0.03441924],\n",
       "       [-0.59455652, -0.00489204],\n",
       "       [-0.22060801, -0.05881063],\n",
       "       [-0.18740047,  0.24339131],\n",
       "       [ 0.43792654,  0.20613836],\n",
       "       [-0.60487646,  0.11683089],\n",
       "       [ 0.48885331,  0.08923308],\n",
       "       [-0.14532396, -0.35208769],\n",
       "       [ 0.53345734, -0.06264098],\n",
       "       [-0.4630113 , -0.14021756],\n",
       "       [ 0.33429193,  0.58581784],\n",
       "       [ 0.15975247, -0.0751852 ],\n",
       "       [-0.30430277,  0.14141152],\n",
       "       [-0.33959922, -0.03685547],\n",
       "       [ 0.69252524, -0.23003533],\n",
       "       [-0.62185514,  0.01873538],\n",
       "       [ 0.02230844, -0.3510684 ],\n",
       "       [ 0.52396662,  0.01385429],\n",
       "       [ 0.43334474, -0.21300254],\n",
       "       [ 0.39608094,  0.54492591],\n",
       "       [-0.76524871,  0.17403358],\n",
       "       [-0.08949043, -0.18000113],\n",
       "       [-0.08860002, -0.06756831],\n",
       "       [-0.0155347 , -0.1425656 ],\n",
       "       [-0.24572022, -0.12790573],\n",
       "       [-0.21442947, -0.34552095],\n",
       "       [ 0.40499281,  0.46525328],\n",
       "       [-0.50351112,  0.21843682],\n",
       "       [ 0.2614773 ,  0.1999315 ],\n",
       "       [ 0.33808949, -0.11017699],\n",
       "       [-0.18666089, -0.35920326],\n",
       "       [-0.71076393,  0.36459428],\n",
       "       [-0.02564732,  0.04996389],\n",
       "       [-0.09128571, -0.24231072],\n",
       "       [-0.5186541 ,  0.3702305 ],\n",
       "       [-0.55918308, -0.12848921],\n",
       "       [-0.14557342,  0.0874153 ]])"
      ]
     },
     "execution_count": 8,
     "metadata": {},
     "output_type": "execute_result"
    }
   ],
   "source": [
    "crime_reduced"
   ]
  },
  {
   "cell_type": "code",
   "execution_count": null,
   "id": "ab14f8f7-2775-410d-8afd-155bc54b291d",
   "metadata": {},
   "outputs": [],
   "source": []
  }
 ],
 "metadata": {
  "kernelspec": {
   "display_name": "Python 3 (ipykernel)",
   "language": "python",
   "name": "python3"
  },
  "language_info": {
   "codemirror_mode": {
    "name": "ipython",
    "version": 3
   },
   "file_extension": ".py",
   "mimetype": "text/x-python",
   "name": "python",
   "nbconvert_exporter": "python",
   "pygments_lexer": "ipython3",
   "version": "3.11.5"
  }
 },
 "nbformat": 4,
 "nbformat_minor": 5
}
