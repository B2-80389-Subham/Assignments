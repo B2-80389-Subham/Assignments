{
 "cells": [
  {
   "cell_type": "code",
   "execution_count": 1,
   "id": "6a4014c2-1517-4660-9274-27841897ce8b",
   "metadata": {},
   "outputs": [],
   "source": [
    "import pandas as pd\n",
    "import numpy as np\n",
    "import matplotlib.pyplot as plt\n",
    "import seaborn as sns"
   ]
  },
  {
   "cell_type": "code",
   "execution_count": 1,
   "id": "973a47de-be97-4fd9-a469-fd47d59bf102",
   "metadata": {},
   "outputs": [
    {
     "ename": "NameError",
     "evalue": "name 'pd' is not defined",
     "output_type": "error",
     "traceback": [
      "\u001b[1;31m---------------------------------------------------------------------------\u001b[0m",
      "\u001b[1;31mNameError\u001b[0m                                 Traceback (most recent call last)",
      "Cell \u001b[1;32mIn[1], line 1\u001b[0m\n\u001b[1;32m----> 1\u001b[0m uni_df \u001b[38;5;241m=\u001b[39m \u001b[43mpd\u001b[49m\u001b[38;5;241m.\u001b[39mread_csv(\u001b[38;5;124m'\u001b[39m\u001b[38;5;124muniversities_std.csv\u001b[39m\u001b[38;5;124m'\u001b[39m)\n",
      "\u001b[1;31mNameError\u001b[0m: name 'pd' is not defined"
     ]
    }
   ],
   "source": [
    "uni_df = pd.read_csv('universities_std.csv')"
   ]
  },
  {
   "cell_type": "code",
   "execution_count": 3,
   "id": "bbf1f5d7-120e-4859-ac81-980e838f5ff3",
   "metadata": {},
   "outputs": [
    {
     "name": "stdout",
     "output_type": "stream",
     "text": [
      "<class 'pandas.core.frame.DataFrame'>\n",
      "RangeIndex: 25 entries, 0 to 24\n",
      "Data columns (total 7 columns):\n",
      " #   Column      Non-Null Count  Dtype  \n",
      "---  ------      --------------  -----  \n",
      " 0   Unnamed: 0  25 non-null     int64  \n",
      " 1   SAT         25 non-null     float64\n",
      " 2   Top10       25 non-null     float64\n",
      " 3   Accept      25 non-null     float64\n",
      " 4   SFRatio     25 non-null     float64\n",
      " 5   Expenses    25 non-null     float64\n",
      " 6   GradRate    25 non-null     float64\n",
      "dtypes: float64(6), int64(1)\n",
      "memory usage: 1.5 KB\n"
     ]
    }
   ],
   "source": [
    "uni_df.info()"
   ]
  },
  {
   "cell_type": "code",
   "execution_count": 4,
   "id": "ff94f8fc-18cf-44e5-8d93-e66be8ad2e08",
   "metadata": {},
   "outputs": [
    {
     "data": {
      "text/html": [
       "<div>\n",
       "<style scoped>\n",
       "    .dataframe tbody tr th:only-of-type {\n",
       "        vertical-align: middle;\n",
       "    }\n",
       "\n",
       "    .dataframe tbody tr th {\n",
       "        vertical-align: top;\n",
       "    }\n",
       "\n",
       "    .dataframe thead th {\n",
       "        text-align: right;\n",
       "    }\n",
       "</style>\n",
       "<table border=\"1\" class=\"dataframe\">\n",
       "  <thead>\n",
       "    <tr style=\"text-align: right;\">\n",
       "      <th></th>\n",
       "      <th>Unnamed: 0</th>\n",
       "      <th>SAT</th>\n",
       "      <th>Top10</th>\n",
       "      <th>Accept</th>\n",
       "      <th>SFRatio</th>\n",
       "      <th>Expenses</th>\n",
       "      <th>GradRate</th>\n",
       "    </tr>\n",
       "  </thead>\n",
       "  <tbody>\n",
       "    <tr>\n",
       "      <th>count</th>\n",
       "      <td>25.000000</td>\n",
       "      <td>25.000000</td>\n",
       "      <td>25.000000</td>\n",
       "      <td>25.000000</td>\n",
       "      <td>25.000000</td>\n",
       "      <td>25.000000</td>\n",
       "      <td>25.000000</td>\n",
       "    </tr>\n",
       "    <tr>\n",
       "      <th>mean</th>\n",
       "      <td>12.000000</td>\n",
       "      <td>0.637659</td>\n",
       "      <td>0.673333</td>\n",
       "      <td>0.331579</td>\n",
       "      <td>0.353684</td>\n",
       "      <td>0.340508</td>\n",
       "      <td>0.657333</td>\n",
       "    </tr>\n",
       "    <tr>\n",
       "      <th>std</th>\n",
       "      <td>7.359801</td>\n",
       "      <td>0.264292</td>\n",
       "      <td>0.269915</td>\n",
       "      <td>0.259570</td>\n",
       "      <td>0.214071</td>\n",
       "      <td>0.262887</td>\n",
       "      <td>0.301926</td>\n",
       "    </tr>\n",
       "    <tr>\n",
       "      <th>min</th>\n",
       "      <td>0.000000</td>\n",
       "      <td>0.000000</td>\n",
       "      <td>0.000000</td>\n",
       "      <td>0.000000</td>\n",
       "      <td>0.000000</td>\n",
       "      <td>0.000000</td>\n",
       "      <td>0.000000</td>\n",
       "    </tr>\n",
       "    <tr>\n",
       "      <th>25%</th>\n",
       "      <td>6.000000</td>\n",
       "      <td>0.573171</td>\n",
       "      <td>0.638889</td>\n",
       "      <td>0.131579</td>\n",
       "      <td>0.263158</td>\n",
       "      <td>0.117293</td>\n",
       "      <td>0.466667</td>\n",
       "    </tr>\n",
       "    <tr>\n",
       "      <th>50%</th>\n",
       "      <td>12.000000</td>\n",
       "      <td>0.682927</td>\n",
       "      <td>0.736111</td>\n",
       "      <td>0.289474</td>\n",
       "      <td>0.315789</td>\n",
       "      <td>0.343515</td>\n",
       "      <td>0.766667</td>\n",
       "    </tr>\n",
       "    <tr>\n",
       "      <th>75%</th>\n",
       "      <td>18.000000</td>\n",
       "      <td>0.817073</td>\n",
       "      <td>0.861111</td>\n",
       "      <td>0.473684</td>\n",
       "      <td>0.421053</td>\n",
       "      <td>0.476864</td>\n",
       "      <td>0.900000</td>\n",
       "    </tr>\n",
       "    <tr>\n",
       "      <th>max</th>\n",
       "      <td>24.000000</td>\n",
       "      <td>1.000000</td>\n",
       "      <td>1.000000</td>\n",
       "      <td>1.000000</td>\n",
       "      <td>1.000000</td>\n",
       "      <td>1.000000</td>\n",
       "      <td>1.000000</td>\n",
       "    </tr>\n",
       "  </tbody>\n",
       "</table>\n",
       "</div>"
      ],
      "text/plain": [
       "       Unnamed: 0        SAT      Top10     Accept    SFRatio   Expenses  \\\n",
       "count   25.000000  25.000000  25.000000  25.000000  25.000000  25.000000   \n",
       "mean    12.000000   0.637659   0.673333   0.331579   0.353684   0.340508   \n",
       "std      7.359801   0.264292   0.269915   0.259570   0.214071   0.262887   \n",
       "min      0.000000   0.000000   0.000000   0.000000   0.000000   0.000000   \n",
       "25%      6.000000   0.573171   0.638889   0.131579   0.263158   0.117293   \n",
       "50%     12.000000   0.682927   0.736111   0.289474   0.315789   0.343515   \n",
       "75%     18.000000   0.817073   0.861111   0.473684   0.421053   0.476864   \n",
       "max     24.000000   1.000000   1.000000   1.000000   1.000000   1.000000   \n",
       "\n",
       "        GradRate  \n",
       "count  25.000000  \n",
       "mean    0.657333  \n",
       "std     0.301926  \n",
       "min     0.000000  \n",
       "25%     0.466667  \n",
       "50%     0.766667  \n",
       "75%     0.900000  \n",
       "max     1.000000  "
      ]
     },
     "execution_count": 4,
     "metadata": {},
     "output_type": "execute_result"
    }
   ],
   "source": [
    "uni_df.describe()"
   ]
  },
  {
   "cell_type": "code",
   "execution_count": 5,
   "id": "adf7db90-2ec9-499d-a5a8-bddb9149761a",
   "metadata": {},
   "outputs": [],
   "source": [
    "uni_df.drop(['Unnamed: 0'], axis=1, inplace=True)"
   ]
  },
  {
   "cell_type": "code",
   "execution_count": 6,
   "id": "7bf0acde-b150-48f3-a5bc-12e0996564c5",
   "metadata": {},
   "outputs": [],
   "source": [
    "from sklearn.decomposition import PCA"
   ]
  },
  {
   "cell_type": "code",
   "execution_count": 7,
   "id": "a75942f6-e4b4-4ed9-8d7e-3a5deb7ed643",
   "metadata": {},
   "outputs": [],
   "source": [
    "pca = PCA(n_components=2)\n",
    "\n",
    "uni_reduced = pca.fit_transform(uni_df)"
   ]
  },
  {
   "cell_type": "code",
   "execution_count": 8,
   "id": "3026ad94-d875-4adf-a254-730d83ae6756",
   "metadata": {},
   "outputs": [
    {
     "data": {
      "text/plain": [
       "array([[-2.96166713e-01, -2.59533811e-01],\n",
       "       [-6.40645082e-01,  6.54507878e-01],\n",
       "       [ 3.82328371e-01,  3.97587461e-01],\n",
       "       [-1.87218585e-01,  7.76047325e-03],\n",
       "       [-9.93095209e-02, -1.60819445e-01],\n",
       "       [-4.47240964e-01, -9.43313837e-02],\n",
       "       [-3.50699504e-01, -1.25168031e-01],\n",
       "       [-1.01472084e-01, -2.25599346e-01],\n",
       "       [-6.37144606e-01, -7.04722048e-02],\n",
       "       [-3.01848812e-01,  5.17917563e-01],\n",
       "       [-4.40630163e-01,  4.28372558e-02],\n",
       "       [-1.12254779e-01, -1.85230245e-02],\n",
       "       [-2.62787498e-02, -2.99976472e-01],\n",
       "       [ 8.19882003e-01, -1.40210349e-01],\n",
       "       [-5.68488756e-01, -1.02167852e-01],\n",
       "       [ 1.35469943e+00,  1.38768795e-01],\n",
       "       [-4.57419621e-01, -4.24665380e-02],\n",
       "       [ 1.14850415e+00, -1.17761103e-02],\n",
       "       [ 1.97654786e-01, -9.29277663e-02],\n",
       "       [-2.64120206e-02,  1.68927321e-01],\n",
       "       [ 4.81333413e-01, -9.88354745e-02],\n",
       "       [-1.38001542e-01, -3.89849725e-02],\n",
       "       [ 1.00148094e-01, -2.99205982e-01],\n",
       "       [ 9.62938770e-01,  1.51565621e-01],\n",
       "       [-6.16257520e-01,  1.12639474e-03]])"
      ]
     },
     "execution_count": 8,
     "metadata": {},
     "output_type": "execute_result"
    }
   ],
   "source": [
    "uni_reduced"
   ]
  },
  {
   "cell_type": "code",
   "execution_count": null,
   "id": "27268eb5-2899-436e-8b08-ae55d43f1db8",
   "metadata": {},
   "outputs": [],
   "source": []
  }
 ],
 "metadata": {
  "kernelspec": {
   "display_name": "Python 3 (ipykernel)",
   "language": "python",
   "name": "python3"
  },
  "language_info": {
   "codemirror_mode": {
    "name": "ipython",
    "version": 3
   },
   "file_extension": ".py",
   "mimetype": "text/x-python",
   "name": "python",
   "nbconvert_exporter": "python",
   "pygments_lexer": "ipython3",
   "version": "3.11.5"
  }
 },
 "nbformat": 4,
 "nbformat_minor": 5
}
