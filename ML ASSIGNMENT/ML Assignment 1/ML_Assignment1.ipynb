{
 "cells": [
  {
   "cell_type": "code",
   "execution_count": 1,
   "id": "0805ec36-cf62-4cc6-8091-aa3376cf6548",
   "metadata": {},
   "outputs": [],
   "source": [
    "import numpy as np\n",
    "import pandas as pd"
   ]
  },
  {
   "cell_type": "markdown",
   "id": "e1f50467-fd7e-438a-b65e-e2c1fc122124",
   "metadata": {},
   "source": [
    "1. Write a NumPy program to create an array with the values 1, 7, 13, 105    and determine the size of the memory occupied by the array."
   ]
  },
  {
   "cell_type": "code",
   "execution_count": 10,
   "id": "fed65e89-c051-4e87-bbac-dd07a35b1555",
   "metadata": {},
   "outputs": [],
   "source": [
    "arr = np.array([1,7,13,105)]\n"
   ]
  },
  {
   "cell_type": "markdown",
   "id": "40475303-cada-40d0-83e3-f4e926f25a0a",
   "metadata": {},
   "source": [
    "2. Write a NumPy program to create an element-wise comparison (greater, greater_equal, less and less_equal) of two given arrays."
   ]
  },
  {
   "cell_type": "code",
   "execution_count": 13,
   "id": "1c5e1098-cf8a-47d0-9d68-209a50688aff",
   "metadata": {},
   "outputs": [
    {
     "name": "stdout",
     "output_type": "stream",
     "text": [
      "[False  True False False]\n",
      "[False  True False False]\n",
      "[ True False  True  True]\n",
      "[ True False  True  True]\n"
     ]
    }
   ],
   "source": [
    "arr1 = np.array([23,43,56,787])\n",
    "arr2 = np.array([12,345,45,56])\n",
    "\n",
    "print(arr1<arr2)\n",
    "print(arr1<=arr2)\n",
    "print(arr1>arr2)\n",
    "print(arr1>=arr2)\n",
    "\n"
   ]
  },
  {
   "cell_type": "markdown",
   "id": "c4f90969-8974-450d-92a6-bcb39cacacca",
   "metadata": {},
   "source": [
    "3. Write a NumPy program to create an array of integers from 30 to 70."
   ]
  },
  {
   "cell_type": "code",
   "execution_count": 14,
   "id": "0c9f667c-9488-49df-965e-dd6b67f5cc95",
   "metadata": {},
   "outputs": [
    {
     "data": {
      "text/plain": [
       "array([30, 31, 32, 33, 34, 35, 36, 37, 38, 39, 40, 41, 42, 43, 44, 45, 46,\n",
       "       47, 48, 49, 50, 51, 52, 53, 54, 55, 56, 57, 58, 59, 60, 61, 62, 63,\n",
       "       64, 65, 66, 67, 68, 69, 70])"
      ]
     },
     "execution_count": 14,
     "metadata": {},
     "output_type": "execute_result"
    }
   ],
   "source": [
    "arr3 = np.arange(30,71)\n",
    "arr3"
   ]
  },
  {
   "cell_type": "markdown",
   "id": "28438cf1-2680-4af8-abda-e07bed020047",
   "metadata": {},
   "source": [
    "4. Write a NumPy program to create an array of all even integers from 20 to 80."
   ]
  },
  {
   "cell_type": "code",
   "execution_count": 20,
   "id": "10f171a5-669f-469b-a42c-d28b35b40354",
   "metadata": {},
   "outputs": [
    {
     "name": "stdout",
     "output_type": "stream",
     "text": [
      "[20, 22, 24, 26, 28, 30, 32, 34, 36, 38, 40, 42, 44, 46, 48, 50, 52, 54, 56, 58, 60, 62, 64, 66, 68, 70, 72, 74, 76, 78, 80]\n"
     ]
    }
   ],
   "source": [
    "arr4 = [value for value in np.arange(20,81) if value%2==0]\n",
    "print(arr4)"
   ]
  },
  {
   "cell_type": "markdown",
   "id": "2b75c676-6d55-4bbb-b448-d2066369658e",
   "metadata": {},
   "source": [
    "5. Write a NumPy program to create an array of all odd integers from 20 to 80."
   ]
  },
  {
   "cell_type": "code",
   "execution_count": 21,
   "id": "93f6752b-5736-4421-ae5a-318257774e00",
   "metadata": {},
   "outputs": [
    {
     "name": "stdout",
     "output_type": "stream",
     "text": [
      "[21, 23, 25, 27, 29, 31, 33, 35, 37, 39, 41, 43, 45, 47, 49, 51, 53, 55, 57, 59, 61, 63, 65, 67, 69, 71, 73, 75, 77, 79]\n"
     ]
    }
   ],
   "source": [
    "arr5 = [value for value in np.arange(20,81) if value%2!=0]\n",
    "print(arr5)"
   ]
  },
  {
   "cell_type": "markdown",
   "id": "dd8e41d8-5cf0-493c-bdc8-3f6a09cec44f",
   "metadata": {},
   "source": [
    "6. Write a NumPy program to generate an array of 15 random numbers from 10 to 40."
   ]
  },
  {
   "cell_type": "code",
   "execution_count": 24,
   "id": "bcb42047-95ae-4b6d-9ef0-f064f5a2dbc3",
   "metadata": {},
   "outputs": [
    {
     "name": "stdout",
     "output_type": "stream",
     "text": [
      "[25 19 29 35 24 30 27 35 15 15 16 31 21 21 15]\n"
     ]
    }
   ],
   "source": [
    "arr6 = np.random.randint(10,40,15)\n",
    "print(arr6)"
   ]
  },
  {
   "cell_type": "markdown",
   "id": "35252f63-b0f6-431d-a702-1604f4f03592",
   "metadata": {},
   "source": [
    "\n",
    "7. Write a NumPy program to generate an array of 10 random numbers from 30 to 50.\n"
   ]
  },
  {
   "cell_type": "code",
   "execution_count": 25,
   "id": "4dc4f9be-4b49-44b9-8957-0f9eac5ea9c0",
   "metadata": {},
   "outputs": [
    {
     "name": "stdout",
     "output_type": "stream",
     "text": [
      "[38 36 43 30 36 30 46 40 36 46]\n"
     ]
    }
   ],
   "source": [
    "arr7 = np.random.randint(30,50,10)\n",
    "print(arr7)"
   ]
  },
  {
   "cell_type": "markdown",
   "id": "455b1424-ccff-4d6f-b06e-4f1d32191228",
   "metadata": {},
   "source": [
    "\n",
    "8. Create any two arrays & perform various mathematical operations.\n",
    "    i.e. Addition, Substraction, Multiplication, Divide."
   ]
  },
  {
   "cell_type": "code",
   "execution_count": 27,
   "id": "2de48f95-b84b-410b-bf96-1862ac273da0",
   "metadata": {},
   "outputs": [
    {
     "name": "stdout",
     "output_type": "stream",
     "text": [
      "[ 35 388 101 843]\n",
      "[  11 -302   11  731]\n",
      "[  276 14835  2520 44072]\n",
      "[ 1.91666667  0.12463768  1.24444444 14.05357143]\n"
     ]
    }
   ],
   "source": [
    "arr8 = np.array([23,43,56,787])\n",
    "arr9 = np.array([12,345,45,56])\n",
    "\n",
    "print(arr8+arr9)\n",
    "print(arr8-arr9)\n",
    "print(arr8*arr9)\n",
    "print(arr8/arr9)\n"
   ]
  },
  {
   "cell_type": "markdown",
   "id": "0c9ba397-6aa1-4f54-9b8d-0344626aea60",
   "metadata": {},
   "source": [
    "\n",
    "9. Write a NumPy program to create a 3x4 matrix filled with values from 10 to 21."
   ]
  },
  {
   "cell_type": "code",
   "execution_count": 43,
   "id": "2aa4a0ac-1efa-4e7f-b5b9-eaff6eec1e58",
   "metadata": {},
   "outputs": [
    {
     "name": "stdout",
     "output_type": "stream",
     "text": [
      "[[10 11 12 13]\n",
      " [14 15 16 17]\n",
      " [18 19 20 21]]\n"
     ]
    }
   ],
   "source": [
    "matrix1 = np.arange(10,22).reshape((3,4))\n",
    "\n",
    "print(matrix1)"
   ]
  },
  {
   "cell_type": "markdown",
   "id": "54a3c833-ecbd-4386-8c7d-c46ad928aaad",
   "metadata": {},
   "source": [
    "\n",
    "10. Write a NumPy program to create a 3x3 identity matrix, i.e. the diagonal elements are 1, the rest are 0."
   ]
  },
  {
   "cell_type": "code",
   "execution_count": 45,
   "id": "d157a8ab-9744-4885-a259-7ef8d7fc1b8d",
   "metadata": {},
   "outputs": [
    {
     "name": "stdout",
     "output_type": "stream",
     "text": [
      "[[1 0 0]\n",
      " [0 1 0]\n",
      " [0 0 1]]\n"
     ]
    }
   ],
   "source": [
    "matrix2 = np.array([1,0,0,0,1,0,0,0,1]).reshape(3,3)\n",
    "print(matrix2)"
   ]
  },
  {
   "cell_type": "markdown",
   "id": "5890e050-cc62-48da-bf00-1b949b3e0519",
   "metadata": {},
   "source": [
    "\n",
    "11. Write a NumPy program to find the number of rows and columns in a given matrix. "
   ]
  },
  {
   "cell_type": "code",
   "execution_count": 50,
   "id": "684ff783-b9c6-4ec2-8d9b-362c504bb746",
   "metadata": {},
   "outputs": [
    {
     "name": "stdout",
     "output_type": "stream",
     "text": [
      "3\n",
      "3\n"
     ]
    }
   ],
   "source": [
    "matrix2 = np.array([1,0,0,0,1,0,0,0,1]).reshape(3,3)\n",
    "\n",
    "row,col = matrix2.shape\n",
    "print(row)\n",
    "print(col)\n"
   ]
  },
  {
   "cell_type": "markdown",
   "id": "71d98219-a421-4e15-8268-1712e744d3a5",
   "metadata": {},
   "source": [
    "\n",
    "12. Write a NumPy program to create a 5x5 zero matrix with elements on the main diagonal equal to 1, 2, 3, 4, 5."
   ]
  },
  {
   "cell_type": "code",
   "execution_count": 56,
   "id": "220bcc13-6178-46ee-94a8-4ea4925ff823",
   "metadata": {},
   "outputs": [
    {
     "name": "stdout",
     "output_type": "stream",
     "text": [
      "[[1. 0. 0. 0. 0.]\n",
      " [0. 2. 0. 0. 0.]\n",
      " [0. 0. 3. 0. 0.]\n",
      " [0. 0. 0. 4. 0.]\n",
      " [0. 0. 0. 0. 5.]]\n"
     ]
    }
   ],
   "source": [
    "matrix3 = np.zeros(25).reshape(5,5)\n",
    "# print(matrix3)\n",
    "\n",
    "for i in range(0,5):\n",
    "    matrix3[i][i]=i+1\n",
    "\n",
    "print(matrix3)"
   ]
  },
  {
   "cell_type": "markdown",
   "id": "26466924-b98e-4b81-86c0-5023db357d32",
   "metadata": {},
   "source": [
    "\n",
    "13. Write a NumPy program to create a 3x3x3 array filled with arbitrary values."
   ]
  },
  {
   "cell_type": "code",
   "execution_count": 67,
   "id": "232676c0-6e59-4014-827c-09a341bd502e",
   "metadata": {},
   "outputs": [
    {
     "name": "stdout",
     "output_type": "stream",
     "text": [
      "[[[3.99977080e-01 6.22873849e-01 6.53114202e-01]\n",
      "  [5.10002942e-01 4.26868669e-01 9.90867432e-01]\n",
      "  [2.82584074e-04 7.31230306e-01 1.12351402e-01]]\n",
      "\n",
      " [[1.80520586e-01 4.51420102e-01 9.80546807e-01]\n",
      "  [2.85570027e-01 8.88200281e-01 5.52936681e-01]\n",
      "  [7.10751817e-01 9.73755314e-01 9.08370850e-01]]\n",
      "\n",
      " [[7.08770345e-01 2.33102360e-01 3.90249730e-01]\n",
      "  [8.28303588e-01 1.33739032e-01 5.55707923e-01]\n",
      "  [3.72551455e-02 4.84232997e-01 9.42438357e-01]]]\n"
     ]
    }
   ],
   "source": [
    "matrix5 = np.random.random(27).reshape(3,3,3)\n",
    "print(matrix5)"
   ]
  },
  {
   "cell_type": "markdown",
   "id": "584cd0e8-db70-49ee-9153-d512cda7bb8e",
   "metadata": {},
   "source": [
    "\n",
    "14. Write a NumPy program to create a 2x3x4 array filled with arbitrary values.\n"
   ]
  },
  {
   "cell_type": "code",
   "execution_count": 68,
   "id": "369bdb34-0726-4a41-b5df-a43382fe1b9e",
   "metadata": {},
   "outputs": [
    {
     "name": "stdout",
     "output_type": "stream",
     "text": [
      "[[[0.71903174 0.98531696 0.59608889 0.98081408]\n",
      "  [0.24226157 0.8559433  0.39240858 0.59463254]\n",
      "  [0.262786   0.27780333 0.06428195 0.27739315]]\n",
      "\n",
      " [[0.71025626 0.11808117 0.93517808 0.14290745]\n",
      "  [0.58557441 0.43993455 0.34080622 0.010859  ]\n",
      "  [0.25759285 0.84790602 0.82865677 0.34946417]]]\n"
     ]
    }
   ],
   "source": [
    "matrix4 = np.random.random(24).reshape(2,3,4)\n",
    "print(matrix4)"
   ]
  },
  {
   "cell_type": "markdown",
   "id": "c162be10-4383-4f1b-b301-f578ff3253a3",
   "metadata": {},
   "source": [
    "15. Write a NumPy program to convert a list of numeric values into a one-dimensional NumPy array.\n"
   ]
  },
  {
   "cell_type": "code",
   "execution_count": 78,
   "id": "3b1438e5-388a-4cbd-be19-9352bfd1e54b",
   "metadata": {},
   "outputs": [
    {
     "name": "stdout",
     "output_type": "stream",
     "text": [
      "[ 1  2  3 44  5  6 78 89  9]\n",
      "1\n"
     ]
    }
   ],
   "source": [
    "list1 = [1,2,3,44,5,6,78,89,9]\n",
    "arr01 = np.array(list1)\n",
    "print(arr01)\n",
    "print(arr01.ndim)"
   ]
  },
  {
   "cell_type": "markdown",
   "id": "e2374b3b-02ee-4f0a-8e10-b5e384079c2b",
   "metadata": {},
   "source": [
    "16. Write a NumPy program to create a 3x3 matrix with values ranging from 2 to 10.\n"
   ]
  },
  {
   "cell_type": "code",
   "execution_count": 80,
   "id": "3b7b4191-e19e-45e7-84b8-48283e80e6da",
   "metadata": {},
   "outputs": [
    {
     "name": "stdout",
     "output_type": "stream",
     "text": [
      "[[ 2  3  4]\n",
      " [ 5  6  7]\n",
      " [ 8  9 10]]\n"
     ]
    }
   ],
   "source": [
    "matrix6 = np.arange(2,11).reshape(3,3)\n",
    "print(matrix6)"
   ]
  },
  {
   "cell_type": "markdown",
   "id": "6dd00f93-02d7-43f1-a42b-08ef200311c4",
   "metadata": {},
   "source": [
    "17. Write a NumPy program to create an array with values ranging from 12 to 38."
   ]
  },
  {
   "cell_type": "code",
   "execution_count": 81,
   "id": "843b9c48-e0b2-48ac-a3c0-f9cc2f5fbce0",
   "metadata": {},
   "outputs": [
    {
     "name": "stdout",
     "output_type": "stream",
     "text": [
      "[12 13 14 15 16 17 18 19 20 21 22 23 24 25 26 27 28 29 30 31 32 33 34 35\n",
      " 36 37 38]\n"
     ]
    }
   ],
   "source": [
    "arr02 = np.arange(12,39)\n",
    "print(arr02)"
   ]
  },
  {
   "cell_type": "markdown",
   "id": "7b71d932-a891-4a3c-a5e8-595346d675c2",
   "metadata": {},
   "source": [
    "18. Write a NumPy program to reverse an array (the first element becomes the last)."
   ]
  },
  {
   "cell_type": "code",
   "execution_count": 87,
   "id": "980e5c3e-61f1-403c-a3bc-2d97499df442",
   "metadata": {},
   "outputs": [
    {
     "name": "stdout",
     "output_type": "stream",
     "text": [
      "[12 13 14 15 16 17 18 19 20 21 22 23 24 25 26 27 28 29 30 31 32 33 34 35\n",
      " 36 37 38]\n",
      "\n",
      "reversed array:- [38 37 36 35 34 33 32 31 30 29 28 27 26 25 24 23 22 21 20 19 18 17 16 15\n",
      " 14 13 12]\n"
     ]
    }
   ],
   "source": [
    "arr02 = np.arange(12,39)\n",
    "print(arr02)\n",
    "print()\n",
    "print(f\"reversed array:- {arr02[::-1]}\")"
   ]
  },
  {
   "cell_type": "markdown",
   "id": "b12cb5fd-b9e5-4a59-bfc4-820f167128f1",
   "metadata": {},
   "source": [
    "19. Write a NumPy program to get the element-wise remainder of an array of division."
   ]
  },
  {
   "cell_type": "code",
   "execution_count": 88,
   "id": "5c5b58a0-e3b3-42e9-a097-41d0eb3f2e20",
   "metadata": {},
   "outputs": [
    {
     "name": "stdout",
     "output_type": "stream",
     "text": [
      "[ 1  2  3 21  5  6  9 20  9]\n"
     ]
    }
   ],
   "source": [
    "list1 = [1,2,3,44,5,6,78,89,9]\n",
    "arr01 = np.array(list1)\n",
    "print(arr01%23)"
   ]
  },
  {
   "cell_type": "markdown",
   "id": "79b97591-127e-49e6-aba5-3d3920c09ed1",
   "metadata": {},
   "source": [
    "20. Write a NumPy program to get the element-wise remainder of an array of numbers from 20 to 50 which are divisible by 3."
   ]
  },
  {
   "cell_type": "code",
   "execution_count": 89,
   "id": "1cde4084-1ff1-4522-8c2b-e919436e39c4",
   "metadata": {},
   "outputs": [
    {
     "name": "stdout",
     "output_type": "stream",
     "text": [
      "[2 0 1 2 0 1 2 0 1 2 0 1 2 0 1 2 0 1 2 0 1 2 0 1 2 0 1 2 0 1 2]\n"
     ]
    }
   ],
   "source": [
    "arr03 = np.arange(20,51)\n",
    "print(arr03%3)"
   ]
  },
  {
   "cell_type": "markdown",
   "id": "3710e1da-36d2-4c28-9250-648fe8ffabb2",
   "metadata": {},
   "source": [
    "21. Write a Pandas program to create a dataframe from a dictionary and display it."
   ]
  },
  {
   "cell_type": "code",
   "execution_count": 103,
   "id": "cb3aaf88-8c49-4196-84e7-e5f02302ef86",
   "metadata": {},
   "outputs": [
    {
     "name": "stdout",
     "output_type": "stream",
     "text": [
      "      Name  Age           City\n",
      "0    Alice   25       New York\n",
      "1      Bob   30  San Francisco\n",
      "2  Charlie   35    Los Angeles\n"
     ]
    }
   ],
   "source": [
    "# dict1 = {1:\"one\",2:\"two\",3:\"three\"}\n",
    "# df =pd.DataFrame(dict1)\n",
    "data = {\n",
    "    'Name': ['Alice', 'Bob', 'Charlie'],\n",
    "    'Age': [25, 30, 35],\n",
    "    'City': ['New York', 'San Francisco', 'Los Angeles']\n",
    "}\n",
    "\n",
    "df = pd.DataFrame(data)\n",
    "\n",
    "print(df)\n"
   ]
  },
  {
   "cell_type": "markdown",
   "id": "3935d9b5-a053-4a9d-b33f-73c3b2901582",
   "metadata": {},
   "source": [
    "\n",
    "22. i) Create a list of empids and names (10 employees).\n",
    "   ii) Convert list into Series.\n",
    "   iii) Print type of Series.\n",
    "   iv) Convert Series into DataFrame.\n",
    "   v) a) Display all records.\n",
    "      b) Display first five records.\n",
    "      c) Display last five records.\n",
    "      d) Display first two and last two records.\n",
    "      e) Display name of 5th employee.\n",
    "      f) Display record of 4th employee.\n",
    "   vi) Save the record in csv file (MyRecord.csv)"
   ]
  },
  {
   "cell_type": "markdown",
   "id": "50a3355e-1176-4172-8a5c-892b1ce88ee6",
   "metadata": {},
   "source": [
    " i) Create a list of empids and names (10 employees)."
   ]
  },
  {
   "cell_type": "code",
   "execution_count": 105,
   "id": "5d185681-edff-439e-8e35-4abf772259ed",
   "metadata": {},
   "outputs": [],
   "source": [
    "empid = [1,2,3,4,5,6,7,8,9,10]\n",
    "names = ['A','B','C','D','E','F','G','H','I','J']"
   ]
  },
  {
   "cell_type": "markdown",
   "id": "5d7d8134-ccf8-400d-ad22-c3d5cf18838e",
   "metadata": {},
   "source": [
    " ii) Convert list into Series."
   ]
  },
  {
   "cell_type": "code",
   "execution_count": 159,
   "id": "c09ebf2d-bfbd-4d88-9b27-f67108af27fc",
   "metadata": {},
   "outputs": [
    {
     "name": "stdout",
     "output_type": "stream",
     "text": [
      "1     A\n",
      "2     B\n",
      "3     C\n",
      "4     D\n",
      "5     E\n",
      "6     F\n",
      "7     G\n",
      "8     H\n",
      "9     I\n",
      "10    J\n",
      "dtype: object\n"
     ]
    }
   ],
   "source": [
    "series = pd.Series(names,empid)\n",
    "print(series)"
   ]
  },
  {
   "cell_type": "markdown",
   "id": "c8137ce8-1e3e-4686-a2a4-355e06d2d0ba",
   "metadata": {},
   "source": [
    "iii) Print type of Series"
   ]
  },
  {
   "cell_type": "code",
   "execution_count": 160,
   "id": "f54e1d0b-9fb6-4b59-9292-ce4b9a92190b",
   "metadata": {},
   "outputs": [
    {
     "name": "stdout",
     "output_type": "stream",
     "text": [
      "<class 'pandas.core.series.Series'>\n"
     ]
    }
   ],
   "source": [
    "print(type(series))"
   ]
  },
  {
   "cell_type": "markdown",
   "id": "c5ac73eb-5f27-4acd-8aab-3f5a4f97f011",
   "metadata": {},
   "source": [
    "iv) Convert Series into DataFrame. "
   ]
  },
  {
   "cell_type": "code",
   "execution_count": 161,
   "id": "3f587325-3437-409d-bb47-18d72f03ac17",
   "metadata": {},
   "outputs": [
    {
     "name": "stdout",
     "output_type": "stream",
     "text": [
      "    0\n",
      "1   A\n",
      "2   B\n",
      "3   C\n",
      "4   D\n",
      "5   E\n",
      "6   F\n",
      "7   G\n",
      "8   H\n",
      "9   I\n",
      "10  J\n"
     ]
    }
   ],
   "source": [
    "df1 = series.to_frame()\n",
    "\n",
    "print(df1)"
   ]
  },
  {
   "cell_type": "markdown",
   "id": "8c6f1878-4f32-41fd-812e-35bc1a33ae56",
   "metadata": {},
   "source": [
    " v) a) Display all records. b) Display first five records. c) Display last five records. d) Display first two and last two records. e) Display name of 5th employee. f) Display record of 4th employee. vi) Save the record in csv file (MyRecord.csv)"
   ]
  },
  {
   "cell_type": "code",
   "execution_count": 162,
   "id": "fd08d230-ea96-4c9e-88bc-6d28eab5aa35",
   "metadata": {},
   "outputs": [
    {
     "name": "stdout",
     "output_type": "stream",
     "text": [
      "    0\n",
      "1   A\n",
      "2   B\n",
      "3   C\n",
      "4   D\n",
      "5   E\n",
      "6   F\n",
      "7   G\n",
      "8   H\n",
      "9   I\n",
      "10  J\n"
     ]
    }
   ],
   "source": [
    "print(df1)"
   ]
  },
  {
   "cell_type": "code",
   "execution_count": 163,
   "id": "63311398-846a-4374-af57-aba77f2ea0f8",
   "metadata": {},
   "outputs": [
    {
     "data": {
      "text/html": [
       "<div>\n",
       "<style scoped>\n",
       "    .dataframe tbody tr th:only-of-type {\n",
       "        vertical-align: middle;\n",
       "    }\n",
       "\n",
       "    .dataframe tbody tr th {\n",
       "        vertical-align: top;\n",
       "    }\n",
       "\n",
       "    .dataframe thead th {\n",
       "        text-align: right;\n",
       "    }\n",
       "</style>\n",
       "<table border=\"1\" class=\"dataframe\">\n",
       "  <thead>\n",
       "    <tr style=\"text-align: right;\">\n",
       "      <th></th>\n",
       "      <th>0</th>\n",
       "    </tr>\n",
       "  </thead>\n",
       "  <tbody>\n",
       "    <tr>\n",
       "      <th>1</th>\n",
       "      <td>A</td>\n",
       "    </tr>\n",
       "    <tr>\n",
       "      <th>2</th>\n",
       "      <td>B</td>\n",
       "    </tr>\n",
       "    <tr>\n",
       "      <th>3</th>\n",
       "      <td>C</td>\n",
       "    </tr>\n",
       "    <tr>\n",
       "      <th>4</th>\n",
       "      <td>D</td>\n",
       "    </tr>\n",
       "    <tr>\n",
       "      <th>5</th>\n",
       "      <td>E</td>\n",
       "    </tr>\n",
       "  </tbody>\n",
       "</table>\n",
       "</div>"
      ],
      "text/plain": [
       "   0\n",
       "1  A\n",
       "2  B\n",
       "3  C\n",
       "4  D\n",
       "5  E"
      ]
     },
     "execution_count": 163,
     "metadata": {},
     "output_type": "execute_result"
    }
   ],
   "source": [
    "df1.head(5)\n"
   ]
  },
  {
   "cell_type": "code",
   "execution_count": 165,
   "id": "86cd27a6-7562-4ad1-b536-010e7e3a6151",
   "metadata": {},
   "outputs": [
    {
     "data": {
      "text/html": [
       "<div>\n",
       "<style scoped>\n",
       "    .dataframe tbody tr th:only-of-type {\n",
       "        vertical-align: middle;\n",
       "    }\n",
       "\n",
       "    .dataframe tbody tr th {\n",
       "        vertical-align: top;\n",
       "    }\n",
       "\n",
       "    .dataframe thead th {\n",
       "        text-align: right;\n",
       "    }\n",
       "</style>\n",
       "<table border=\"1\" class=\"dataframe\">\n",
       "  <thead>\n",
       "    <tr style=\"text-align: right;\">\n",
       "      <th></th>\n",
       "      <th>0</th>\n",
       "    </tr>\n",
       "  </thead>\n",
       "  <tbody>\n",
       "    <tr>\n",
       "      <th>6</th>\n",
       "      <td>F</td>\n",
       "    </tr>\n",
       "    <tr>\n",
       "      <th>7</th>\n",
       "      <td>G</td>\n",
       "    </tr>\n",
       "    <tr>\n",
       "      <th>8</th>\n",
       "      <td>H</td>\n",
       "    </tr>\n",
       "    <tr>\n",
       "      <th>9</th>\n",
       "      <td>I</td>\n",
       "    </tr>\n",
       "    <tr>\n",
       "      <th>10</th>\n",
       "      <td>J</td>\n",
       "    </tr>\n",
       "  </tbody>\n",
       "</table>\n",
       "</div>"
      ],
      "text/plain": [
       "    0\n",
       "6   F\n",
       "7   G\n",
       "8   H\n",
       "9   I\n",
       "10  J"
      ]
     },
     "execution_count": 165,
     "metadata": {},
     "output_type": "execute_result"
    }
   ],
   "source": [
    "df1.tail(5)"
   ]
  },
  {
   "cell_type": "code",
   "execution_count": 164,
   "id": "6568e9ba-4818-4fea-a24a-bdff7636ba8e",
   "metadata": {},
   "outputs": [
    {
     "name": "stdout",
     "output_type": "stream",
     "text": [
      "   0\n",
      "1  A\n",
      "2  B\n",
      "    0\n",
      "9   I\n",
      "10  J\n"
     ]
    }
   ],
   "source": [
    "print(df1.head(2))\n",
    "print(df1.tail(2))"
   ]
  },
  {
   "cell_type": "code",
   "execution_count": 166,
   "id": "da02528f-d74a-476f-a04d-d19bc75cf1fb",
   "metadata": {},
   "outputs": [
    {
     "data": {
      "text/plain": [
       "0    E\n",
       "Name: 5, dtype: object"
      ]
     },
     "execution_count": 166,
     "metadata": {},
     "output_type": "execute_result"
    }
   ],
   "source": [
    "df1.loc[5]"
   ]
  },
  {
   "cell_type": "code",
   "execution_count": 147,
   "id": "f66d3670-faef-45fc-b4e1-00d728341692",
   "metadata": {},
   "outputs": [
    {
     "data": {
      "text/plain": [
       "0    D\n",
       "Name: 4, dtype: object"
      ]
     },
     "execution_count": 147,
     "metadata": {},
     "output_type": "execute_result"
    }
   ],
   "source": [
    "df1.loc[4]\n"
   ]
  },
  {
   "cell_type": "code",
   "execution_count": 167,
   "id": "5c187265-ad8b-4eba-99bf-643d130e1a47",
   "metadata": {},
   "outputs": [],
   "source": [
    "df1.to_csv(\"MyRecord.csv\")"
   ]
  },
  {
   "cell_type": "markdown",
   "id": "4d22ab0d-21f3-4c15-a9f6-1f6d0296878f",
   "metadata": {},
   "source": [
    "23. i) Read the MyRecord.csv file.\n",
    "    ii) Create a new column Salary.\n"
   ]
  },
  {
   "cell_type": "code",
   "execution_count": 168,
   "id": "69665cce-390f-4c24-a65c-231e5f398f91",
   "metadata": {},
   "outputs": [
    {
     "data": {
      "text/html": [
       "<div>\n",
       "<style scoped>\n",
       "    .dataframe tbody tr th:only-of-type {\n",
       "        vertical-align: middle;\n",
       "    }\n",
       "\n",
       "    .dataframe tbody tr th {\n",
       "        vertical-align: top;\n",
       "    }\n",
       "\n",
       "    .dataframe thead th {\n",
       "        text-align: right;\n",
       "    }\n",
       "</style>\n",
       "<table border=\"1\" class=\"dataframe\">\n",
       "  <thead>\n",
       "    <tr style=\"text-align: right;\">\n",
       "      <th></th>\n",
       "      <th>Unnamed: 0</th>\n",
       "      <th>0</th>\n",
       "    </tr>\n",
       "  </thead>\n",
       "  <tbody>\n",
       "    <tr>\n",
       "      <th>0</th>\n",
       "      <td>1</td>\n",
       "      <td>A</td>\n",
       "    </tr>\n",
       "    <tr>\n",
       "      <th>1</th>\n",
       "      <td>2</td>\n",
       "      <td>B</td>\n",
       "    </tr>\n",
       "    <tr>\n",
       "      <th>2</th>\n",
       "      <td>3</td>\n",
       "      <td>C</td>\n",
       "    </tr>\n",
       "    <tr>\n",
       "      <th>3</th>\n",
       "      <td>4</td>\n",
       "      <td>D</td>\n",
       "    </tr>\n",
       "    <tr>\n",
       "      <th>4</th>\n",
       "      <td>5</td>\n",
       "      <td>E</td>\n",
       "    </tr>\n",
       "    <tr>\n",
       "      <th>5</th>\n",
       "      <td>6</td>\n",
       "      <td>F</td>\n",
       "    </tr>\n",
       "    <tr>\n",
       "      <th>6</th>\n",
       "      <td>7</td>\n",
       "      <td>G</td>\n",
       "    </tr>\n",
       "    <tr>\n",
       "      <th>7</th>\n",
       "      <td>8</td>\n",
       "      <td>H</td>\n",
       "    </tr>\n",
       "    <tr>\n",
       "      <th>8</th>\n",
       "      <td>9</td>\n",
       "      <td>I</td>\n",
       "    </tr>\n",
       "    <tr>\n",
       "      <th>9</th>\n",
       "      <td>10</td>\n",
       "      <td>J</td>\n",
       "    </tr>\n",
       "  </tbody>\n",
       "</table>\n",
       "</div>"
      ],
      "text/plain": [
       "   Unnamed: 0  0\n",
       "0           1  A\n",
       "1           2  B\n",
       "2           3  C\n",
       "3           4  D\n",
       "4           5  E\n",
       "5           6  F\n",
       "6           7  G\n",
       "7           8  H\n",
       "8           9  I\n",
       "9          10  J"
      ]
     },
     "execution_count": 168,
     "metadata": {},
     "output_type": "execute_result"
    }
   ],
   "source": [
    "df2 = pd.read_csv(\"MyRecord.csv\")\n",
    "df2"
   ]
  },
  {
   "cell_type": "code",
   "execution_count": 169,
   "id": "9faadb3c-8c57-4e42-83c9-98fb67ee6119",
   "metadata": {},
   "outputs": [
    {
     "name": "stdout",
     "output_type": "stream",
     "text": [
      "   empid name  salary\n",
      "0      1    A      12\n",
      "1      2    B      34\n",
      "2      3    C      45\n",
      "3      4    D      45\n",
      "4      5    E      45\n",
      "5      6    F      13\n",
      "6      7    G      23\n",
      "7      8    H      23\n",
      "8      9    I      23\n",
      "9     10    J      23\n"
     ]
    }
   ],
   "source": [
    "df2['salary']=[12,34,45,45,45,13,23,23,23,23]\n",
    "df2.columns = ['empid', 'name','salary']\n",
    "print(df2)\n"
   ]
  },
  {
   "cell_type": "markdown",
   "id": "39c96fdd-3a59-4bad-9bdd-cd07094ff4a8",
   "metadata": {},
   "source": [
    "\n",
    "24. Refer the dataset \"Advertising.csv\" and perform following tasks.\n",
    "i) Read the dataset \"Advertising.csv\" in data frame.\n",
    "\n",
    "ii) Print first five records of dataset.\n",
    "\n",
    "iii) print last five records from dataset.\n",
    "\n",
    "iv) display the column names of the dataset.\n",
    "\n",
    "v) display last three records from dataset.\n",
    "\n",
    "vi) display the information about the dataset and analyse the data.\n",
    "\n",
    "vii) display data types of each columns.\n",
    " \n",
    "viii) check for null values in the dataset and display the sum of null values inside the column.\n",
    "\n",
    "ix) drop a column 'radio' from a dataset and display first ten records.\n",
    "\n",
    "x) increase the sales by 10% and add a new column \"updated_sales\" in dataframe.\n",
    "\n",
    "xi) display shape of data."
   ]
  },
  {
   "cell_type": "code",
   "execution_count": 210,
   "id": "da7bf5c6-f76d-4914-aaf4-597e70a7f5f9",
   "metadata": {},
   "outputs": [
    {
     "name": "stdout",
     "output_type": "stream",
     "text": [
      "        TV  radio  newspaper  sales\n",
      "0    230.1   37.8       69.2   22.1\n",
      "1     44.5   39.3       45.1   10.4\n",
      "2     17.2   45.9       69.3    9.3\n",
      "3    151.5   41.3       58.5   18.5\n",
      "4    180.8   10.8       58.4   12.9\n",
      "..     ...    ...        ...    ...\n",
      "195   38.2    3.7       13.8    7.6\n",
      "196   94.2    4.9        8.1    9.7\n",
      "197  177.0    9.3        6.4   12.8\n",
      "198  283.6   42.0       66.2   25.5\n",
      "199  232.1    8.6        8.7   13.4\n",
      "\n",
      "[200 rows x 4 columns]\n"
     ]
    }
   ],
   "source": [
    "df4 = pd.read_csv(\"Advertising.csv\")\n",
    "print(df4)"
   ]
  },
  {
   "cell_type": "code",
   "execution_count": 200,
   "id": "970e014f-f317-466e-9f3c-1795ca04c6a7",
   "metadata": {},
   "outputs": [
    {
     "data": {
      "text/html": [
       "<div>\n",
       "<style scoped>\n",
       "    .dataframe tbody tr th:only-of-type {\n",
       "        vertical-align: middle;\n",
       "    }\n",
       "\n",
       "    .dataframe tbody tr th {\n",
       "        vertical-align: top;\n",
       "    }\n",
       "\n",
       "    .dataframe thead th {\n",
       "        text-align: right;\n",
       "    }\n",
       "</style>\n",
       "<table border=\"1\" class=\"dataframe\">\n",
       "  <thead>\n",
       "    <tr style=\"text-align: right;\">\n",
       "      <th></th>\n",
       "      <th>TV</th>\n",
       "      <th>radio</th>\n",
       "      <th>newspaper</th>\n",
       "      <th>sales</th>\n",
       "    </tr>\n",
       "  </thead>\n",
       "  <tbody>\n",
       "    <tr>\n",
       "      <th>0</th>\n",
       "      <td>230.1</td>\n",
       "      <td>37.8</td>\n",
       "      <td>69.2</td>\n",
       "      <td>22.1</td>\n",
       "    </tr>\n",
       "    <tr>\n",
       "      <th>1</th>\n",
       "      <td>44.5</td>\n",
       "      <td>39.3</td>\n",
       "      <td>45.1</td>\n",
       "      <td>10.4</td>\n",
       "    </tr>\n",
       "    <tr>\n",
       "      <th>2</th>\n",
       "      <td>17.2</td>\n",
       "      <td>45.9</td>\n",
       "      <td>69.3</td>\n",
       "      <td>9.3</td>\n",
       "    </tr>\n",
       "    <tr>\n",
       "      <th>3</th>\n",
       "      <td>151.5</td>\n",
       "      <td>41.3</td>\n",
       "      <td>58.5</td>\n",
       "      <td>18.5</td>\n",
       "    </tr>\n",
       "    <tr>\n",
       "      <th>4</th>\n",
       "      <td>180.8</td>\n",
       "      <td>10.8</td>\n",
       "      <td>58.4</td>\n",
       "      <td>12.9</td>\n",
       "    </tr>\n",
       "  </tbody>\n",
       "</table>\n",
       "</div>"
      ],
      "text/plain": [
       "      TV  radio  newspaper  sales\n",
       "0  230.1   37.8       69.2   22.1\n",
       "1   44.5   39.3       45.1   10.4\n",
       "2   17.2   45.9       69.3    9.3\n",
       "3  151.5   41.3       58.5   18.5\n",
       "4  180.8   10.8       58.4   12.9"
      ]
     },
     "execution_count": 200,
     "metadata": {},
     "output_type": "execute_result"
    }
   ],
   "source": [
    "df4.head()"
   ]
  },
  {
   "cell_type": "code",
   "execution_count": 201,
   "id": "acad11c5-c9d7-4528-b572-18d9a9de15a3",
   "metadata": {},
   "outputs": [
    {
     "data": {
      "text/html": [
       "<div>\n",
       "<style scoped>\n",
       "    .dataframe tbody tr th:only-of-type {\n",
       "        vertical-align: middle;\n",
       "    }\n",
       "\n",
       "    .dataframe tbody tr th {\n",
       "        vertical-align: top;\n",
       "    }\n",
       "\n",
       "    .dataframe thead th {\n",
       "        text-align: right;\n",
       "    }\n",
       "</style>\n",
       "<table border=\"1\" class=\"dataframe\">\n",
       "  <thead>\n",
       "    <tr style=\"text-align: right;\">\n",
       "      <th></th>\n",
       "      <th>TV</th>\n",
       "      <th>radio</th>\n",
       "      <th>newspaper</th>\n",
       "      <th>sales</th>\n",
       "    </tr>\n",
       "  </thead>\n",
       "  <tbody>\n",
       "    <tr>\n",
       "      <th>195</th>\n",
       "      <td>38.2</td>\n",
       "      <td>3.7</td>\n",
       "      <td>13.8</td>\n",
       "      <td>7.6</td>\n",
       "    </tr>\n",
       "    <tr>\n",
       "      <th>196</th>\n",
       "      <td>94.2</td>\n",
       "      <td>4.9</td>\n",
       "      <td>8.1</td>\n",
       "      <td>9.7</td>\n",
       "    </tr>\n",
       "    <tr>\n",
       "      <th>197</th>\n",
       "      <td>177.0</td>\n",
       "      <td>9.3</td>\n",
       "      <td>6.4</td>\n",
       "      <td>12.8</td>\n",
       "    </tr>\n",
       "    <tr>\n",
       "      <th>198</th>\n",
       "      <td>283.6</td>\n",
       "      <td>42.0</td>\n",
       "      <td>66.2</td>\n",
       "      <td>25.5</td>\n",
       "    </tr>\n",
       "    <tr>\n",
       "      <th>199</th>\n",
       "      <td>232.1</td>\n",
       "      <td>8.6</td>\n",
       "      <td>8.7</td>\n",
       "      <td>13.4</td>\n",
       "    </tr>\n",
       "  </tbody>\n",
       "</table>\n",
       "</div>"
      ],
      "text/plain": [
       "        TV  radio  newspaper  sales\n",
       "195   38.2    3.7       13.8    7.6\n",
       "196   94.2    4.9        8.1    9.7\n",
       "197  177.0    9.3        6.4   12.8\n",
       "198  283.6   42.0       66.2   25.5\n",
       "199  232.1    8.6        8.7   13.4"
      ]
     },
     "execution_count": 201,
     "metadata": {},
     "output_type": "execute_result"
    }
   ],
   "source": [
    "df4.tail()"
   ]
  },
  {
   "cell_type": "code",
   "execution_count": 202,
   "id": "24e9a505-e224-418d-83c5-275c9149423d",
   "metadata": {},
   "outputs": [
    {
     "data": {
      "text/plain": [
       "Index(['TV', 'radio', 'newspaper', 'sales'], dtype='object')"
      ]
     },
     "execution_count": 202,
     "metadata": {},
     "output_type": "execute_result"
    }
   ],
   "source": [
    "df4.columns"
   ]
  },
  {
   "cell_type": "code",
   "execution_count": 203,
   "id": "c80c3b8a-1e9c-48ea-b9f5-f8cc952ff601",
   "metadata": {},
   "outputs": [
    {
     "data": {
      "text/html": [
       "<div>\n",
       "<style scoped>\n",
       "    .dataframe tbody tr th:only-of-type {\n",
       "        vertical-align: middle;\n",
       "    }\n",
       "\n",
       "    .dataframe tbody tr th {\n",
       "        vertical-align: top;\n",
       "    }\n",
       "\n",
       "    .dataframe thead th {\n",
       "        text-align: right;\n",
       "    }\n",
       "</style>\n",
       "<table border=\"1\" class=\"dataframe\">\n",
       "  <thead>\n",
       "    <tr style=\"text-align: right;\">\n",
       "      <th></th>\n",
       "      <th>TV</th>\n",
       "      <th>radio</th>\n",
       "      <th>newspaper</th>\n",
       "      <th>sales</th>\n",
       "    </tr>\n",
       "  </thead>\n",
       "  <tbody>\n",
       "    <tr>\n",
       "      <th>197</th>\n",
       "      <td>177.0</td>\n",
       "      <td>9.3</td>\n",
       "      <td>6.4</td>\n",
       "      <td>12.8</td>\n",
       "    </tr>\n",
       "    <tr>\n",
       "      <th>198</th>\n",
       "      <td>283.6</td>\n",
       "      <td>42.0</td>\n",
       "      <td>66.2</td>\n",
       "      <td>25.5</td>\n",
       "    </tr>\n",
       "    <tr>\n",
       "      <th>199</th>\n",
       "      <td>232.1</td>\n",
       "      <td>8.6</td>\n",
       "      <td>8.7</td>\n",
       "      <td>13.4</td>\n",
       "    </tr>\n",
       "  </tbody>\n",
       "</table>\n",
       "</div>"
      ],
      "text/plain": [
       "        TV  radio  newspaper  sales\n",
       "197  177.0    9.3        6.4   12.8\n",
       "198  283.6   42.0       66.2   25.5\n",
       "199  232.1    8.6        8.7   13.4"
      ]
     },
     "execution_count": 203,
     "metadata": {},
     "output_type": "execute_result"
    }
   ],
   "source": [
    "df4.tail(3)"
   ]
  },
  {
   "cell_type": "code",
   "execution_count": 204,
   "id": "3ff322b9-a09e-4741-98b0-a188cfd4a294",
   "metadata": {},
   "outputs": [
    {
     "data": {
      "text/html": [
       "<div>\n",
       "<style scoped>\n",
       "    .dataframe tbody tr th:only-of-type {\n",
       "        vertical-align: middle;\n",
       "    }\n",
       "\n",
       "    .dataframe tbody tr th {\n",
       "        vertical-align: top;\n",
       "    }\n",
       "\n",
       "    .dataframe thead th {\n",
       "        text-align: right;\n",
       "    }\n",
       "</style>\n",
       "<table border=\"1\" class=\"dataframe\">\n",
       "  <thead>\n",
       "    <tr style=\"text-align: right;\">\n",
       "      <th></th>\n",
       "      <th>TV</th>\n",
       "      <th>radio</th>\n",
       "      <th>newspaper</th>\n",
       "      <th>sales</th>\n",
       "    </tr>\n",
       "  </thead>\n",
       "  <tbody>\n",
       "    <tr>\n",
       "      <th>count</th>\n",
       "      <td>200.000000</td>\n",
       "      <td>200.000000</td>\n",
       "      <td>200.000000</td>\n",
       "      <td>200.000000</td>\n",
       "    </tr>\n",
       "    <tr>\n",
       "      <th>mean</th>\n",
       "      <td>147.042500</td>\n",
       "      <td>23.264000</td>\n",
       "      <td>30.554000</td>\n",
       "      <td>14.022500</td>\n",
       "    </tr>\n",
       "    <tr>\n",
       "      <th>std</th>\n",
       "      <td>85.854236</td>\n",
       "      <td>14.846809</td>\n",
       "      <td>21.778621</td>\n",
       "      <td>5.217457</td>\n",
       "    </tr>\n",
       "    <tr>\n",
       "      <th>min</th>\n",
       "      <td>0.700000</td>\n",
       "      <td>0.000000</td>\n",
       "      <td>0.300000</td>\n",
       "      <td>1.600000</td>\n",
       "    </tr>\n",
       "    <tr>\n",
       "      <th>25%</th>\n",
       "      <td>74.375000</td>\n",
       "      <td>9.975000</td>\n",
       "      <td>12.750000</td>\n",
       "      <td>10.375000</td>\n",
       "    </tr>\n",
       "    <tr>\n",
       "      <th>50%</th>\n",
       "      <td>149.750000</td>\n",
       "      <td>22.900000</td>\n",
       "      <td>25.750000</td>\n",
       "      <td>12.900000</td>\n",
       "    </tr>\n",
       "    <tr>\n",
       "      <th>75%</th>\n",
       "      <td>218.825000</td>\n",
       "      <td>36.525000</td>\n",
       "      <td>45.100000</td>\n",
       "      <td>17.400000</td>\n",
       "    </tr>\n",
       "    <tr>\n",
       "      <th>max</th>\n",
       "      <td>296.400000</td>\n",
       "      <td>49.600000</td>\n",
       "      <td>114.000000</td>\n",
       "      <td>27.000000</td>\n",
       "    </tr>\n",
       "  </tbody>\n",
       "</table>\n",
       "</div>"
      ],
      "text/plain": [
       "               TV       radio   newspaper       sales\n",
       "count  200.000000  200.000000  200.000000  200.000000\n",
       "mean   147.042500   23.264000   30.554000   14.022500\n",
       "std     85.854236   14.846809   21.778621    5.217457\n",
       "min      0.700000    0.000000    0.300000    1.600000\n",
       "25%     74.375000    9.975000   12.750000   10.375000\n",
       "50%    149.750000   22.900000   25.750000   12.900000\n",
       "75%    218.825000   36.525000   45.100000   17.400000\n",
       "max    296.400000   49.600000  114.000000   27.000000"
      ]
     },
     "execution_count": 204,
     "metadata": {},
     "output_type": "execute_result"
    }
   ],
   "source": [
    "df4.describe()"
   ]
  },
  {
   "cell_type": "code",
   "execution_count": 205,
   "id": "85fac8db-0d39-46f1-b474-16d56c335199",
   "metadata": {},
   "outputs": [
    {
     "data": {
      "text/plain": [
       "TV           float64\n",
       "radio        float64\n",
       "newspaper    float64\n",
       "sales        float64\n",
       "dtype: object"
      ]
     },
     "execution_count": 205,
     "metadata": {},
     "output_type": "execute_result"
    }
   ],
   "source": [
    "df4.dtypes"
   ]
  },
  {
   "cell_type": "code",
   "execution_count": 206,
   "id": "4cdc353c-346b-4146-9a83-0b5ba24cbdad",
   "metadata": {},
   "outputs": [
    {
     "name": "stdout",
     "output_type": "stream",
     "text": [
      "        TV  radio  newspaper  sales\n",
      "0    False  False      False  False\n",
      "1    False  False      False  False\n",
      "2    False  False      False  False\n",
      "3    False  False      False  False\n",
      "4    False  False      False  False\n",
      "..     ...    ...        ...    ...\n",
      "195  False  False      False  False\n",
      "196  False  False      False  False\n",
      "197  False  False      False  False\n",
      "198  False  False      False  False\n",
      "199  False  False      False  False\n",
      "\n",
      "[200 rows x 4 columns]\n",
      "\n",
      "TV           0\n",
      "radio        0\n",
      "newspaper    0\n",
      "sales        0\n",
      "dtype: int64\n"
     ]
    }
   ],
   "source": [
    "print(df4.isna())\n",
    "print()\n",
    "print(df4.isna().sum())"
   ]
  },
  {
   "cell_type": "code",
   "execution_count": 211,
   "id": "bf28d95d-ce3e-4189-a302-2bdab24cf7e9",
   "metadata": {},
   "outputs": [
    {
     "name": "stdout",
     "output_type": "stream",
     "text": [
      "      TV  radio  newspaper  sales\n",
      "0  230.1   37.8       69.2   22.1\n",
      "1   44.5   39.3       45.1   10.4\n",
      "2   17.2   45.9       69.3    9.3\n",
      "3  151.5   41.3       58.5   18.5\n",
      "4  180.8   10.8       58.4   12.9\n",
      "5    8.7   48.9       75.0    7.2\n",
      "6   57.5   32.8       23.5   11.8\n",
      "7  120.2   19.6       11.6   13.2\n",
      "8    8.6    2.1        1.0    4.8\n",
      "9  199.8    2.6       21.2   10.6\n",
      "      TV  newspaper  sales\n",
      "0  230.1       69.2   22.1\n",
      "1   44.5       45.1   10.4\n",
      "2   17.2       69.3    9.3\n",
      "3  151.5       58.5   18.5\n",
      "4  180.8       58.4   12.9\n",
      "5    8.7       75.0    7.2\n",
      "6   57.5       23.5   11.8\n",
      "7  120.2       11.6   13.2\n",
      "8    8.6        1.0    4.8\n",
      "9  199.8       21.2   10.6\n"
     ]
    }
   ],
   "source": [
    "print(df4.head(10))\n",
    "df4=df4.drop(columns=['radio'])\n",
    "print(df4.head(10))\n",
    "\n",
    "\n"
   ]
  },
  {
   "cell_type": "code",
   "execution_count": 212,
   "id": "919d57ec-0f0c-4d43-8603-0c60648d4614",
   "metadata": {},
   "outputs": [
    {
     "name": "stdout",
     "output_type": "stream",
     "text": [
      "        TV  newspaper  sales  updates_sales\n",
      "0    230.1       69.2   22.1          24.31\n",
      "1     44.5       45.1   10.4          11.44\n",
      "2     17.2       69.3    9.3          10.23\n",
      "3    151.5       58.5   18.5          20.35\n",
      "4    180.8       58.4   12.9          14.19\n",
      "..     ...        ...    ...            ...\n",
      "195   38.2       13.8    7.6           8.36\n",
      "196   94.2        8.1    9.7          10.67\n",
      "197  177.0        6.4   12.8          14.08\n",
      "198  283.6       66.2   25.5          28.05\n",
      "199  232.1        8.7   13.4          14.74\n",
      "\n",
      "[200 rows x 4 columns]\n"
     ]
    }
   ],
   "source": [
    "df4['updates_sales'] = df4['sales']*1.1\n",
    "print(df4)"
   ]
  },
  {
   "cell_type": "code",
   "execution_count": 213,
   "id": "41fc5640-41e0-4328-b3a4-573d5c26b5b3",
   "metadata": {},
   "outputs": [
    {
     "data": {
      "text/plain": [
       "(200, 4)"
      ]
     },
     "execution_count": 213,
     "metadata": {},
     "output_type": "execute_result"
    }
   ],
   "source": [
    "df4.shape"
   ]
  },
  {
   "cell_type": "markdown",
   "id": "47b98daa-eadb-4ce0-95a8-eb8dac6b8f35",
   "metadata": {},
   "source": [
    "25. Refer the dataset \"Salaries.csv\" and perform following tasks."
   ]
  },
  {
   "cell_type": "markdown",
   "id": "eb21f5a1-b50d-42ca-abde-3d9736a85565",
   "metadata": {},
   "source": [
    "i) Read the dataset in dataframe."
   ]
  },
  {
   "cell_type": "code",
   "execution_count": 220,
   "id": "2366a5e4-4cbf-45ab-b285-5ddd2cc8f4ff",
   "metadata": {},
   "outputs": [],
   "source": [
    "%config IPCompleter.greedy=True\n"
   ]
  },
  {
   "cell_type": "code",
   "execution_count": 222,
   "id": "30e7acd3-2ca3-470c-8eb0-af74f06f55cf",
   "metadata": {},
   "outputs": [],
   "source": [
    "df5 = pd.read_csv(\"Salaries .csv\")\n"
   ]
  },
  {
   "cell_type": "markdown",
   "id": "7bc1d2bc-099e-4a42-9768-99ba1f2b3612",
   "metadata": {},
   "source": [
    "ii) display first five records."
   ]
  },
  {
   "cell_type": "code",
   "execution_count": 223,
   "id": "2220d014-2739-4c4f-a080-6d2e73c303e9",
   "metadata": {},
   "outputs": [
    {
     "data": {
      "text/html": [
       "<div>\n",
       "<style scoped>\n",
       "    .dataframe tbody tr th:only-of-type {\n",
       "        vertical-align: middle;\n",
       "    }\n",
       "\n",
       "    .dataframe tbody tr th {\n",
       "        vertical-align: top;\n",
       "    }\n",
       "\n",
       "    .dataframe thead th {\n",
       "        text-align: right;\n",
       "    }\n",
       "</style>\n",
       "<table border=\"1\" class=\"dataframe\">\n",
       "  <thead>\n",
       "    <tr style=\"text-align: right;\">\n",
       "      <th></th>\n",
       "      <th>rank</th>\n",
       "      <th>discipline</th>\n",
       "      <th>phd</th>\n",
       "      <th>service</th>\n",
       "      <th>sex</th>\n",
       "      <th>salary</th>\n",
       "    </tr>\n",
       "  </thead>\n",
       "  <tbody>\n",
       "    <tr>\n",
       "      <th>0</th>\n",
       "      <td>Prof</td>\n",
       "      <td>B</td>\n",
       "      <td>56</td>\n",
       "      <td>49</td>\n",
       "      <td>Male</td>\n",
       "      <td>186960</td>\n",
       "    </tr>\n",
       "    <tr>\n",
       "      <th>1</th>\n",
       "      <td>Prof</td>\n",
       "      <td>A</td>\n",
       "      <td>12</td>\n",
       "      <td>6</td>\n",
       "      <td>Male</td>\n",
       "      <td>93000</td>\n",
       "    </tr>\n",
       "    <tr>\n",
       "      <th>2</th>\n",
       "      <td>Prof</td>\n",
       "      <td>A</td>\n",
       "      <td>23</td>\n",
       "      <td>20</td>\n",
       "      <td>Male</td>\n",
       "      <td>110515</td>\n",
       "    </tr>\n",
       "    <tr>\n",
       "      <th>3</th>\n",
       "      <td>Prof</td>\n",
       "      <td>A</td>\n",
       "      <td>40</td>\n",
       "      <td>31</td>\n",
       "      <td>Male</td>\n",
       "      <td>131205</td>\n",
       "    </tr>\n",
       "    <tr>\n",
       "      <th>4</th>\n",
       "      <td>Prof</td>\n",
       "      <td>B</td>\n",
       "      <td>20</td>\n",
       "      <td>18</td>\n",
       "      <td>Male</td>\n",
       "      <td>104800</td>\n",
       "    </tr>\n",
       "  </tbody>\n",
       "</table>\n",
       "</div>"
      ],
      "text/plain": [
       "   rank discipline  phd  service   sex  salary\n",
       "0  Prof          B   56       49  Male  186960\n",
       "1  Prof          A   12        6  Male   93000\n",
       "2  Prof          A   23       20  Male  110515\n",
       "3  Prof          A   40       31  Male  131205\n",
       "4  Prof          B   20       18  Male  104800"
      ]
     },
     "execution_count": 223,
     "metadata": {},
     "output_type": "execute_result"
    }
   ],
   "source": [
    "df5.head()"
   ]
  },
  {
   "cell_type": "markdown",
   "id": "ac821916-c49d-49af-90f1-a35c8adf8032",
   "metadata": {},
   "source": [
    "iii) display first ten records."
   ]
  },
  {
   "cell_type": "code",
   "execution_count": 225,
   "id": "354acb2e-114c-4d91-a2a1-2f1a0c7de26d",
   "metadata": {},
   "outputs": [
    {
     "data": {
      "text/html": [
       "<div>\n",
       "<style scoped>\n",
       "    .dataframe tbody tr th:only-of-type {\n",
       "        vertical-align: middle;\n",
       "    }\n",
       "\n",
       "    .dataframe tbody tr th {\n",
       "        vertical-align: top;\n",
       "    }\n",
       "\n",
       "    .dataframe thead th {\n",
       "        text-align: right;\n",
       "    }\n",
       "</style>\n",
       "<table border=\"1\" class=\"dataframe\">\n",
       "  <thead>\n",
       "    <tr style=\"text-align: right;\">\n",
       "      <th></th>\n",
       "      <th>rank</th>\n",
       "      <th>discipline</th>\n",
       "      <th>phd</th>\n",
       "      <th>service</th>\n",
       "      <th>sex</th>\n",
       "      <th>salary</th>\n",
       "    </tr>\n",
       "  </thead>\n",
       "  <tbody>\n",
       "    <tr>\n",
       "      <th>0</th>\n",
       "      <td>Prof</td>\n",
       "      <td>B</td>\n",
       "      <td>56</td>\n",
       "      <td>49</td>\n",
       "      <td>Male</td>\n",
       "      <td>186960</td>\n",
       "    </tr>\n",
       "    <tr>\n",
       "      <th>1</th>\n",
       "      <td>Prof</td>\n",
       "      <td>A</td>\n",
       "      <td>12</td>\n",
       "      <td>6</td>\n",
       "      <td>Male</td>\n",
       "      <td>93000</td>\n",
       "    </tr>\n",
       "    <tr>\n",
       "      <th>2</th>\n",
       "      <td>Prof</td>\n",
       "      <td>A</td>\n",
       "      <td>23</td>\n",
       "      <td>20</td>\n",
       "      <td>Male</td>\n",
       "      <td>110515</td>\n",
       "    </tr>\n",
       "    <tr>\n",
       "      <th>3</th>\n",
       "      <td>Prof</td>\n",
       "      <td>A</td>\n",
       "      <td>40</td>\n",
       "      <td>31</td>\n",
       "      <td>Male</td>\n",
       "      <td>131205</td>\n",
       "    </tr>\n",
       "    <tr>\n",
       "      <th>4</th>\n",
       "      <td>Prof</td>\n",
       "      <td>B</td>\n",
       "      <td>20</td>\n",
       "      <td>18</td>\n",
       "      <td>Male</td>\n",
       "      <td>104800</td>\n",
       "    </tr>\n",
       "    <tr>\n",
       "      <th>5</th>\n",
       "      <td>Prof</td>\n",
       "      <td>A</td>\n",
       "      <td>20</td>\n",
       "      <td>20</td>\n",
       "      <td>Male</td>\n",
       "      <td>122400</td>\n",
       "    </tr>\n",
       "    <tr>\n",
       "      <th>6</th>\n",
       "      <td>AssocProf</td>\n",
       "      <td>A</td>\n",
       "      <td>20</td>\n",
       "      <td>17</td>\n",
       "      <td>Male</td>\n",
       "      <td>81285</td>\n",
       "    </tr>\n",
       "    <tr>\n",
       "      <th>7</th>\n",
       "      <td>Prof</td>\n",
       "      <td>A</td>\n",
       "      <td>18</td>\n",
       "      <td>18</td>\n",
       "      <td>Male</td>\n",
       "      <td>126300</td>\n",
       "    </tr>\n",
       "    <tr>\n",
       "      <th>8</th>\n",
       "      <td>Prof</td>\n",
       "      <td>A</td>\n",
       "      <td>29</td>\n",
       "      <td>19</td>\n",
       "      <td>Male</td>\n",
       "      <td>94350</td>\n",
       "    </tr>\n",
       "    <tr>\n",
       "      <th>9</th>\n",
       "      <td>Prof</td>\n",
       "      <td>A</td>\n",
       "      <td>51</td>\n",
       "      <td>51</td>\n",
       "      <td>Male</td>\n",
       "      <td>57800</td>\n",
       "    </tr>\n",
       "  </tbody>\n",
       "</table>\n",
       "</div>"
      ],
      "text/plain": [
       "        rank discipline  phd  service   sex  salary\n",
       "0       Prof          B   56       49  Male  186960\n",
       "1       Prof          A   12        6  Male   93000\n",
       "2       Prof          A   23       20  Male  110515\n",
       "3       Prof          A   40       31  Male  131205\n",
       "4       Prof          B   20       18  Male  104800\n",
       "5       Prof          A   20       20  Male  122400\n",
       "6  AssocProf          A   20       17  Male   81285\n",
       "7       Prof          A   18       18  Male  126300\n",
       "8       Prof          A   29       19  Male   94350\n",
       "9       Prof          A   51       51  Male   57800"
      ]
     },
     "execution_count": 225,
     "metadata": {},
     "output_type": "execute_result"
    }
   ],
   "source": [
    "df5.head(10)"
   ]
  },
  {
   "cell_type": "markdown",
   "id": "19e58729-c1bf-44a2-a254-b73c42a0d9e4",
   "metadata": {},
   "source": [
    "iv) display last five records."
   ]
  },
  {
   "cell_type": "code",
   "execution_count": 226,
   "id": "c461bacb-2239-41cb-9639-218ad8713a7a",
   "metadata": {},
   "outputs": [
    {
     "data": {
      "text/html": [
       "<div>\n",
       "<style scoped>\n",
       "    .dataframe tbody tr th:only-of-type {\n",
       "        vertical-align: middle;\n",
       "    }\n",
       "\n",
       "    .dataframe tbody tr th {\n",
       "        vertical-align: top;\n",
       "    }\n",
       "\n",
       "    .dataframe thead th {\n",
       "        text-align: right;\n",
       "    }\n",
       "</style>\n",
       "<table border=\"1\" class=\"dataframe\">\n",
       "  <thead>\n",
       "    <tr style=\"text-align: right;\">\n",
       "      <th></th>\n",
       "      <th>rank</th>\n",
       "      <th>discipline</th>\n",
       "      <th>phd</th>\n",
       "      <th>service</th>\n",
       "      <th>sex</th>\n",
       "      <th>salary</th>\n",
       "    </tr>\n",
       "  </thead>\n",
       "  <tbody>\n",
       "    <tr>\n",
       "      <th>73</th>\n",
       "      <td>Prof</td>\n",
       "      <td>B</td>\n",
       "      <td>18</td>\n",
       "      <td>10</td>\n",
       "      <td>Female</td>\n",
       "      <td>105450</td>\n",
       "    </tr>\n",
       "    <tr>\n",
       "      <th>74</th>\n",
       "      <td>AssocProf</td>\n",
       "      <td>B</td>\n",
       "      <td>19</td>\n",
       "      <td>6</td>\n",
       "      <td>Female</td>\n",
       "      <td>104542</td>\n",
       "    </tr>\n",
       "    <tr>\n",
       "      <th>75</th>\n",
       "      <td>Prof</td>\n",
       "      <td>B</td>\n",
       "      <td>17</td>\n",
       "      <td>17</td>\n",
       "      <td>Female</td>\n",
       "      <td>124312</td>\n",
       "    </tr>\n",
       "    <tr>\n",
       "      <th>76</th>\n",
       "      <td>Prof</td>\n",
       "      <td>A</td>\n",
       "      <td>28</td>\n",
       "      <td>14</td>\n",
       "      <td>Female</td>\n",
       "      <td>109954</td>\n",
       "    </tr>\n",
       "    <tr>\n",
       "      <th>77</th>\n",
       "      <td>Prof</td>\n",
       "      <td>A</td>\n",
       "      <td>23</td>\n",
       "      <td>15</td>\n",
       "      <td>Female</td>\n",
       "      <td>109646</td>\n",
       "    </tr>\n",
       "  </tbody>\n",
       "</table>\n",
       "</div>"
      ],
      "text/plain": [
       "         rank discipline  phd  service     sex  salary\n",
       "73       Prof          B   18       10  Female  105450\n",
       "74  AssocProf          B   19        6  Female  104542\n",
       "75       Prof          B   17       17  Female  124312\n",
       "76       Prof          A   28       14  Female  109954\n",
       "77       Prof          A   23       15  Female  109646"
      ]
     },
     "execution_count": 226,
     "metadata": {},
     "output_type": "execute_result"
    }
   ],
   "source": [
    "df5.tail()"
   ]
  },
  {
   "cell_type": "markdown",
   "id": "8627f7ca-4839-4942-993b-ff75e95d9a09",
   "metadata": {},
   "source": [
    "v) display last ten records."
   ]
  },
  {
   "cell_type": "code",
   "execution_count": 228,
   "id": "07e7a68f-18c2-4b76-8117-853635b437f4",
   "metadata": {},
   "outputs": [
    {
     "data": {
      "text/html": [
       "<div>\n",
       "<style scoped>\n",
       "    .dataframe tbody tr th:only-of-type {\n",
       "        vertical-align: middle;\n",
       "    }\n",
       "\n",
       "    .dataframe tbody tr th {\n",
       "        vertical-align: top;\n",
       "    }\n",
       "\n",
       "    .dataframe thead th {\n",
       "        text-align: right;\n",
       "    }\n",
       "</style>\n",
       "<table border=\"1\" class=\"dataframe\">\n",
       "  <thead>\n",
       "    <tr style=\"text-align: right;\">\n",
       "      <th></th>\n",
       "      <th>rank</th>\n",
       "      <th>discipline</th>\n",
       "      <th>phd</th>\n",
       "      <th>service</th>\n",
       "      <th>sex</th>\n",
       "      <th>salary</th>\n",
       "    </tr>\n",
       "  </thead>\n",
       "  <tbody>\n",
       "    <tr>\n",
       "      <th>68</th>\n",
       "      <td>AsstProf</td>\n",
       "      <td>A</td>\n",
       "      <td>4</td>\n",
       "      <td>2</td>\n",
       "      <td>Female</td>\n",
       "      <td>77500</td>\n",
       "    </tr>\n",
       "    <tr>\n",
       "      <th>69</th>\n",
       "      <td>Prof</td>\n",
       "      <td>A</td>\n",
       "      <td>28</td>\n",
       "      <td>7</td>\n",
       "      <td>Female</td>\n",
       "      <td>116450</td>\n",
       "    </tr>\n",
       "    <tr>\n",
       "      <th>70</th>\n",
       "      <td>AsstProf</td>\n",
       "      <td>A</td>\n",
       "      <td>8</td>\n",
       "      <td>3</td>\n",
       "      <td>Female</td>\n",
       "      <td>78500</td>\n",
       "    </tr>\n",
       "    <tr>\n",
       "      <th>71</th>\n",
       "      <td>AssocProf</td>\n",
       "      <td>B</td>\n",
       "      <td>12</td>\n",
       "      <td>9</td>\n",
       "      <td>Female</td>\n",
       "      <td>71065</td>\n",
       "    </tr>\n",
       "    <tr>\n",
       "      <th>72</th>\n",
       "      <td>Prof</td>\n",
       "      <td>B</td>\n",
       "      <td>24</td>\n",
       "      <td>15</td>\n",
       "      <td>Female</td>\n",
       "      <td>161101</td>\n",
       "    </tr>\n",
       "    <tr>\n",
       "      <th>73</th>\n",
       "      <td>Prof</td>\n",
       "      <td>B</td>\n",
       "      <td>18</td>\n",
       "      <td>10</td>\n",
       "      <td>Female</td>\n",
       "      <td>105450</td>\n",
       "    </tr>\n",
       "    <tr>\n",
       "      <th>74</th>\n",
       "      <td>AssocProf</td>\n",
       "      <td>B</td>\n",
       "      <td>19</td>\n",
       "      <td>6</td>\n",
       "      <td>Female</td>\n",
       "      <td>104542</td>\n",
       "    </tr>\n",
       "    <tr>\n",
       "      <th>75</th>\n",
       "      <td>Prof</td>\n",
       "      <td>B</td>\n",
       "      <td>17</td>\n",
       "      <td>17</td>\n",
       "      <td>Female</td>\n",
       "      <td>124312</td>\n",
       "    </tr>\n",
       "    <tr>\n",
       "      <th>76</th>\n",
       "      <td>Prof</td>\n",
       "      <td>A</td>\n",
       "      <td>28</td>\n",
       "      <td>14</td>\n",
       "      <td>Female</td>\n",
       "      <td>109954</td>\n",
       "    </tr>\n",
       "    <tr>\n",
       "      <th>77</th>\n",
       "      <td>Prof</td>\n",
       "      <td>A</td>\n",
       "      <td>23</td>\n",
       "      <td>15</td>\n",
       "      <td>Female</td>\n",
       "      <td>109646</td>\n",
       "    </tr>\n",
       "  </tbody>\n",
       "</table>\n",
       "</div>"
      ],
      "text/plain": [
       "         rank discipline  phd  service     sex  salary\n",
       "68   AsstProf          A    4        2  Female   77500\n",
       "69       Prof          A   28        7  Female  116450\n",
       "70   AsstProf          A    8        3  Female   78500\n",
       "71  AssocProf          B   12        9  Female   71065\n",
       "72       Prof          B   24       15  Female  161101\n",
       "73       Prof          B   18       10  Female  105450\n",
       "74  AssocProf          B   19        6  Female  104542\n",
       "75       Prof          B   17       17  Female  124312\n",
       "76       Prof          A   28       14  Female  109954\n",
       "77       Prof          A   23       15  Female  109646"
      ]
     },
     "execution_count": 228,
     "metadata": {},
     "output_type": "execute_result"
    }
   ],
   "source": [
    "df5.tail(10)"
   ]
  },
  {
   "cell_type": "markdown",
   "id": "e58bb59f-c69a-42f8-86f4-d8e203970599",
   "metadata": {},
   "source": [
    "vi) display the columns inside the dataset."
   ]
  },
  {
   "cell_type": "code",
   "execution_count": 229,
   "id": "491e0d37-00b7-4984-877f-51ecc2fbddbb",
   "metadata": {},
   "outputs": [
    {
     "data": {
      "text/plain": [
       "Index(['rank', 'discipline', 'phd', 'service', 'sex', 'salary'], dtype='object')"
      ]
     },
     "execution_count": 229,
     "metadata": {},
     "output_type": "execute_result"
    }
   ],
   "source": [
    "df5.columns\n"
   ]
  },
  {
   "cell_type": "markdown",
   "id": "9c596c0a-32a5-438d-9f91-3a21de172401",
   "metadata": {},
   "source": [
    "vii) display shape of data.\n"
   ]
  },
  {
   "cell_type": "code",
   "execution_count": 230,
   "id": "016c80dc-279a-4cd5-90b7-1998c9dcc4c6",
   "metadata": {},
   "outputs": [
    {
     "data": {
      "text/plain": [
       "(78, 6)"
      ]
     },
     "execution_count": 230,
     "metadata": {},
     "output_type": "execute_result"
    }
   ],
   "source": [
    "df5.shape\n"
   ]
  },
  {
   "cell_type": "markdown",
   "id": "25d90430-3b2f-496a-b984-c54e04b00746",
   "metadata": {},
   "source": [
    "viii) describe the dataset.\n"
   ]
  },
  {
   "cell_type": "code",
   "execution_count": 233,
   "id": "c12f64b7-5aeb-4313-9f2f-528b2294479c",
   "metadata": {},
   "outputs": [
    {
     "data": {
      "text/html": [
       "<div>\n",
       "<style scoped>\n",
       "    .dataframe tbody tr th:only-of-type {\n",
       "        vertical-align: middle;\n",
       "    }\n",
       "\n",
       "    .dataframe tbody tr th {\n",
       "        vertical-align: top;\n",
       "    }\n",
       "\n",
       "    .dataframe thead th {\n",
       "        text-align: right;\n",
       "    }\n",
       "</style>\n",
       "<table border=\"1\" class=\"dataframe\">\n",
       "  <thead>\n",
       "    <tr style=\"text-align: right;\">\n",
       "      <th></th>\n",
       "      <th>phd</th>\n",
       "      <th>service</th>\n",
       "      <th>salary</th>\n",
       "    </tr>\n",
       "  </thead>\n",
       "  <tbody>\n",
       "    <tr>\n",
       "      <th>count</th>\n",
       "      <td>78.000000</td>\n",
       "      <td>78.000000</td>\n",
       "      <td>78.000000</td>\n",
       "    </tr>\n",
       "    <tr>\n",
       "      <th>mean</th>\n",
       "      <td>19.705128</td>\n",
       "      <td>15.051282</td>\n",
       "      <td>108023.782051</td>\n",
       "    </tr>\n",
       "    <tr>\n",
       "      <th>std</th>\n",
       "      <td>12.498425</td>\n",
       "      <td>12.139768</td>\n",
       "      <td>28293.661022</td>\n",
       "    </tr>\n",
       "    <tr>\n",
       "      <th>min</th>\n",
       "      <td>1.000000</td>\n",
       "      <td>0.000000</td>\n",
       "      <td>57800.000000</td>\n",
       "    </tr>\n",
       "    <tr>\n",
       "      <th>25%</th>\n",
       "      <td>10.250000</td>\n",
       "      <td>5.250000</td>\n",
       "      <td>88612.500000</td>\n",
       "    </tr>\n",
       "    <tr>\n",
       "      <th>50%</th>\n",
       "      <td>18.500000</td>\n",
       "      <td>14.500000</td>\n",
       "      <td>104671.000000</td>\n",
       "    </tr>\n",
       "    <tr>\n",
       "      <th>75%</th>\n",
       "      <td>27.750000</td>\n",
       "      <td>20.750000</td>\n",
       "      <td>126774.750000</td>\n",
       "    </tr>\n",
       "    <tr>\n",
       "      <th>max</th>\n",
       "      <td>56.000000</td>\n",
       "      <td>51.000000</td>\n",
       "      <td>186960.000000</td>\n",
       "    </tr>\n",
       "  </tbody>\n",
       "</table>\n",
       "</div>"
      ],
      "text/plain": [
       "             phd    service         salary\n",
       "count  78.000000  78.000000      78.000000\n",
       "mean   19.705128  15.051282  108023.782051\n",
       "std    12.498425  12.139768   28293.661022\n",
       "min     1.000000   0.000000   57800.000000\n",
       "25%    10.250000   5.250000   88612.500000\n",
       "50%    18.500000  14.500000  104671.000000\n",
       "75%    27.750000  20.750000  126774.750000\n",
       "max    56.000000  51.000000  186960.000000"
      ]
     },
     "execution_count": 233,
     "metadata": {},
     "output_type": "execute_result"
    }
   ],
   "source": [
    "df5.describe()"
   ]
  },
  {
   "cell_type": "markdown",
   "id": "f09ce38b-0d21-4867-9669-8394a72a319e",
   "metadata": {},
   "source": [
    "ix) display the information about the dataset and analyse the data."
   ]
  },
  {
   "cell_type": "code",
   "execution_count": 236,
   "id": "30459ed6-3eeb-4a75-82e0-29b859861b44",
   "metadata": {},
   "outputs": [
    {
     "name": "stdout",
     "output_type": "stream",
     "text": [
      "<class 'pandas.core.frame.DataFrame'>\n",
      "RangeIndex: 78 entries, 0 to 77\n",
      "Data columns (total 6 columns):\n",
      " #   Column      Non-Null Count  Dtype \n",
      "---  ------      --------------  ----- \n",
      " 0   rank        78 non-null     object\n",
      " 1   discipline  78 non-null     object\n",
      " 2   phd         78 non-null     int64 \n",
      " 3   service     78 non-null     int64 \n",
      " 4   sex         78 non-null     object\n",
      " 5   salary      78 non-null     int64 \n",
      "dtypes: int64(3), object(3)\n",
      "memory usage: 3.8+ KB\n"
     ]
    }
   ],
   "source": [
    "df5.info()"
   ]
  },
  {
   "cell_type": "markdown",
   "id": "65e7afc6-d113-40db-bcd4-6f33ff10ee98",
   "metadata": {},
   "source": [
    "x) display types of each columns."
   ]
  },
  {
   "cell_type": "code",
   "execution_count": 239,
   "id": "ab818aa2-bcf5-4017-9c52-75cc16e2760d",
   "metadata": {},
   "outputs": [
    {
     "data": {
      "text/plain": [
       "rank          object\n",
       "discipline    object\n",
       "phd            int64\n",
       "service        int64\n",
       "sex           object\n",
       "salary         int64\n",
       "dtype: object"
      ]
     },
     "execution_count": 239,
     "metadata": {},
     "output_type": "execute_result"
    }
   ],
   "source": [
    "df5.dtypes"
   ]
  },
  {
   "cell_type": "markdown",
   "id": "71a5418e-6f4f-4a4f-a499-7971f9b17702",
   "metadata": {},
   "source": [
    "xi) Find out maximum,minimum,mean,median,standard deviation value of each column."
   ]
  },
  {
   "cell_type": "code",
   "execution_count": 240,
   "id": "fcac1e36-95c8-49ca-9656-3741b98b8242",
   "metadata": {},
   "outputs": [
    {
     "name": "stdout",
     "output_type": "stream",
     "text": [
      "             phd    service         salary\n",
      "count  78.000000  78.000000      78.000000\n",
      "mean   19.705128  15.051282  108023.782051\n",
      "std    12.498425  12.139768   28293.661022\n",
      "min     1.000000   0.000000   57800.000000\n",
      "25%    10.250000   5.250000   88612.500000\n",
      "50%    18.500000  14.500000  104671.000000\n",
      "75%    27.750000  20.750000  126774.750000\n",
      "max    56.000000  51.000000  186960.000000\n"
     ]
    }
   ],
   "source": [
    "print(df5.describe())"
   ]
  },
  {
   "cell_type": "markdown",
   "id": "9cc58e42-f218-4438-b552-df1d078f81a0",
   "metadata": {},
   "source": [
    "\n",
    "xii) check for null values in the dataset and display the sum of null values inside the column."
   ]
  },
  {
   "cell_type": "code",
   "execution_count": 242,
   "id": "ccd16724-3968-41d2-85b5-7684329b0215",
   "metadata": {},
   "outputs": [
    {
     "name": "stdout",
     "output_type": "stream",
     "text": [
      "     rank  discipline    phd  service    sex  salary\n",
      "0   False       False  False    False  False   False\n",
      "1   False       False  False    False  False   False\n",
      "2   False       False  False    False  False   False\n",
      "3   False       False  False    False  False   False\n",
      "4   False       False  False    False  False   False\n",
      "..    ...         ...    ...      ...    ...     ...\n",
      "73  False       False  False    False  False   False\n",
      "74  False       False  False    False  False   False\n",
      "75  False       False  False    False  False   False\n",
      "76  False       False  False    False  False   False\n",
      "77  False       False  False    False  False   False\n",
      "\n",
      "[78 rows x 6 columns]\n",
      "rank          0\n",
      "discipline    0\n",
      "phd           0\n",
      "service       0\n",
      "sex           0\n",
      "salary        0\n",
      "dtype: int64\n"
     ]
    }
   ],
   "source": [
    "print(df5.isna())\n",
    "print(df5.isna().sum())"
   ]
  },
  {
   "cell_type": "markdown",
   "id": "faeec1a9-fa56-4ee5-85fd-f4f1d171eda2",
   "metadata": {},
   "source": [
    "xiii) drop all null values."
   ]
  },
  {
   "cell_type": "code",
   "execution_count": 244,
   "id": "f8b5ef6f-7eab-4fcc-a2b5-954b098a38b6",
   "metadata": {},
   "outputs": [
    {
     "data": {
      "text/html": [
       "<div>\n",
       "<style scoped>\n",
       "    .dataframe tbody tr th:only-of-type {\n",
       "        vertical-align: middle;\n",
       "    }\n",
       "\n",
       "    .dataframe tbody tr th {\n",
       "        vertical-align: top;\n",
       "    }\n",
       "\n",
       "    .dataframe thead th {\n",
       "        text-align: right;\n",
       "    }\n",
       "</style>\n",
       "<table border=\"1\" class=\"dataframe\">\n",
       "  <thead>\n",
       "    <tr style=\"text-align: right;\">\n",
       "      <th></th>\n",
       "      <th>rank</th>\n",
       "      <th>discipline</th>\n",
       "      <th>phd</th>\n",
       "      <th>service</th>\n",
       "      <th>sex</th>\n",
       "      <th>salary</th>\n",
       "    </tr>\n",
       "  </thead>\n",
       "  <tbody>\n",
       "    <tr>\n",
       "      <th>0</th>\n",
       "      <td>Prof</td>\n",
       "      <td>B</td>\n",
       "      <td>56</td>\n",
       "      <td>49</td>\n",
       "      <td>Male</td>\n",
       "      <td>186960</td>\n",
       "    </tr>\n",
       "    <tr>\n",
       "      <th>1</th>\n",
       "      <td>Prof</td>\n",
       "      <td>A</td>\n",
       "      <td>12</td>\n",
       "      <td>6</td>\n",
       "      <td>Male</td>\n",
       "      <td>93000</td>\n",
       "    </tr>\n",
       "    <tr>\n",
       "      <th>2</th>\n",
       "      <td>Prof</td>\n",
       "      <td>A</td>\n",
       "      <td>23</td>\n",
       "      <td>20</td>\n",
       "      <td>Male</td>\n",
       "      <td>110515</td>\n",
       "    </tr>\n",
       "    <tr>\n",
       "      <th>3</th>\n",
       "      <td>Prof</td>\n",
       "      <td>A</td>\n",
       "      <td>40</td>\n",
       "      <td>31</td>\n",
       "      <td>Male</td>\n",
       "      <td>131205</td>\n",
       "    </tr>\n",
       "    <tr>\n",
       "      <th>4</th>\n",
       "      <td>Prof</td>\n",
       "      <td>B</td>\n",
       "      <td>20</td>\n",
       "      <td>18</td>\n",
       "      <td>Male</td>\n",
       "      <td>104800</td>\n",
       "    </tr>\n",
       "    <tr>\n",
       "      <th>...</th>\n",
       "      <td>...</td>\n",
       "      <td>...</td>\n",
       "      <td>...</td>\n",
       "      <td>...</td>\n",
       "      <td>...</td>\n",
       "      <td>...</td>\n",
       "    </tr>\n",
       "    <tr>\n",
       "      <th>73</th>\n",
       "      <td>Prof</td>\n",
       "      <td>B</td>\n",
       "      <td>18</td>\n",
       "      <td>10</td>\n",
       "      <td>Female</td>\n",
       "      <td>105450</td>\n",
       "    </tr>\n",
       "    <tr>\n",
       "      <th>74</th>\n",
       "      <td>AssocProf</td>\n",
       "      <td>B</td>\n",
       "      <td>19</td>\n",
       "      <td>6</td>\n",
       "      <td>Female</td>\n",
       "      <td>104542</td>\n",
       "    </tr>\n",
       "    <tr>\n",
       "      <th>75</th>\n",
       "      <td>Prof</td>\n",
       "      <td>B</td>\n",
       "      <td>17</td>\n",
       "      <td>17</td>\n",
       "      <td>Female</td>\n",
       "      <td>124312</td>\n",
       "    </tr>\n",
       "    <tr>\n",
       "      <th>76</th>\n",
       "      <td>Prof</td>\n",
       "      <td>A</td>\n",
       "      <td>28</td>\n",
       "      <td>14</td>\n",
       "      <td>Female</td>\n",
       "      <td>109954</td>\n",
       "    </tr>\n",
       "    <tr>\n",
       "      <th>77</th>\n",
       "      <td>Prof</td>\n",
       "      <td>A</td>\n",
       "      <td>23</td>\n",
       "      <td>15</td>\n",
       "      <td>Female</td>\n",
       "      <td>109646</td>\n",
       "    </tr>\n",
       "  </tbody>\n",
       "</table>\n",
       "<p>78 rows × 6 columns</p>\n",
       "</div>"
      ],
      "text/plain": [
       "         rank discipline  phd  service     sex  salary\n",
       "0        Prof          B   56       49    Male  186960\n",
       "1        Prof          A   12        6    Male   93000\n",
       "2        Prof          A   23       20    Male  110515\n",
       "3        Prof          A   40       31    Male  131205\n",
       "4        Prof          B   20       18    Male  104800\n",
       "..        ...        ...  ...      ...     ...     ...\n",
       "73       Prof          B   18       10  Female  105450\n",
       "74  AssocProf          B   19        6  Female  104542\n",
       "75       Prof          B   17       17  Female  124312\n",
       "76       Prof          A   28       14  Female  109954\n",
       "77       Prof          A   23       15  Female  109646\n",
       "\n",
       "[78 rows x 6 columns]"
      ]
     },
     "execution_count": 244,
     "metadata": {},
     "output_type": "execute_result"
    }
   ],
   "source": [
    "df5.dropna()"
   ]
  },
  {
   "cell_type": "markdown",
   "id": "b48660fb-6293-4e9e-84bc-c841803047a5",
   "metadata": {},
   "source": [
    "xiv) a) display records whose salary is greater than 50000.\n",
    "     b) display records whose salary is less than 20000.\n",
    "     c) display records whose salary is between 20000 to 50000.\n",
    "     d) display records whose salary is greater than 100000.\n",
    "     e) display records whose salary is less than 100000.\n"
   ]
  },
  {
   "cell_type": "code",
   "execution_count": 255,
   "id": "7d82c1e6-6874-4f37-b783-51a68323591f",
   "metadata": {},
   "outputs": [
    {
     "name": "stdout",
     "output_type": "stream",
     "text": [
      "         rank discipline  phd  service     sex  salary\n",
      "0        Prof          B   56       49    Male  186960\n",
      "1        Prof          A   12        6    Male   93000\n",
      "2        Prof          A   23       20    Male  110515\n",
      "3        Prof          A   40       31    Male  131205\n",
      "4        Prof          B   20       18    Male  104800\n",
      "..        ...        ...  ...      ...     ...     ...\n",
      "73       Prof          B   18       10  Female  105450\n",
      "74  AssocProf          B   19        6  Female  104542\n",
      "75       Prof          B   17       17  Female  124312\n",
      "76       Prof          A   28       14  Female  109954\n",
      "77       Prof          A   23       15  Female  109646\n",
      "\n",
      "[78 rows x 6 columns]\n"
     ]
    }
   ],
   "source": [
    "print(df5[df5['salary'] > 50000])\n",
    "    "
   ]
  },
  {
   "cell_type": "markdown",
   "id": "621cf014-d6db-4db4-94ea-747e4a80e3d1",
   "metadata": {},
   "source": [
    "  b) display records whose salary is less than 20000."
   ]
  },
  {
   "cell_type": "code",
   "execution_count": 256,
   "id": "27050ddc-855e-4bc9-b3a3-429ebbd138f9",
   "metadata": {},
   "outputs": [
    {
     "name": "stdout",
     "output_type": "stream",
     "text": [
      "Empty DataFrame\n",
      "Columns: [rank, discipline, phd, service, sex, salary]\n",
      "Index: []\n"
     ]
    }
   ],
   "source": [
    "print(df5[df5['salary'] <20000])"
   ]
  },
  {
   "cell_type": "markdown",
   "id": "ce416851-7e67-4dc7-87c1-0283a3d45b36",
   "metadata": {},
   "source": [
    " c) display records whose salary is between 20000 to 50000."
   ]
  },
  {
   "cell_type": "code",
   "execution_count": 265,
   "id": "0bc3924a-eee9-4b7c-bb31-33973a78d86d",
   "metadata": {},
   "outputs": [
    {
     "name": "stdout",
     "output_type": "stream",
     "text": [
      "Empty DataFrame\n",
      "Columns: [rank, discipline, phd, service, sex, salary]\n",
      "Index: []\n"
     ]
    }
   ],
   "source": [
    "print(df5[(df5['salary']>20000) & (df5['salary'] <50000)])"
   ]
  },
  {
   "cell_type": "markdown",
   "id": "6d8bdbab-9ca6-432f-8901-161908db4f1a",
   "metadata": {},
   "source": [
    "     d) display records whose salary is greater than 100000."
   ]
  },
  {
   "cell_type": "code",
   "execution_count": 267,
   "id": "64aeaff7-3dc3-4e76-adca-5bdd678ce84b",
   "metadata": {},
   "outputs": [
    {
     "name": "stdout",
     "output_type": "stream",
     "text": [
      "         rank discipline  phd  service     sex  salary\n",
      "0        Prof          B   56       49    Male  186960\n",
      "2        Prof          A   23       20    Male  110515\n",
      "3        Prof          A   40       31    Male  131205\n",
      "4        Prof          B   20       18    Male  104800\n",
      "5        Prof          A   20       20    Male  122400\n",
      "7        Prof          A   18       18    Male  126300\n",
      "10       Prof          B   39       33    Male  128250\n",
      "11       Prof          B   23       23    Male  134778\n",
      "13       Prof          B   35       33    Male  162200\n",
      "14       Prof          B   25       19    Male  153750\n",
      "15       Prof          B   17        3    Male  150480\n",
      "18       Prof          A   19        7    Male  107300\n",
      "19       Prof          A   29       27    Male  150500\n",
      "21       Prof          A   33       30    Male  103106\n",
      "26       Prof          A   38       19    Male  148750\n",
      "27       Prof          A   45       43    Male  155865\n",
      "29       Prof          B   21       20    Male  123683\n",
      "30  AssocProf          B    9        7    Male  107008\n",
      "31       Prof          B   22       21    Male  155750\n",
      "32       Prof          A   27       19    Male  103275\n",
      "33       Prof          B   18       18    Male  120000\n",
      "34  AssocProf          B   12        8    Male  119800\n",
      "35       Prof          B   28       23    Male  126933\n",
      "36       Prof          B   45       45    Male  146856\n",
      "37       Prof          A   20        8    Male  102000\n",
      "39       Prof          B   18       18  Female  129000\n",
      "40       Prof          A   39       36  Female  137000\n",
      "44       Prof          B   23       19  Female  151768\n",
      "45       Prof          B   25       25  Female  140096\n",
      "47  AssocProf          B   11       11  Female  103613\n",
      "48       Prof          B   17       17  Female  111512\n",
      "49       Prof          B   17       18  Female  122960\n",
      "51       Prof          B   20       14  Female  127512\n",
      "52       Prof          A   12        0  Female  105000\n",
      "58       Prof          B   36       26  Female  144651\n",
      "59  AssocProf          B   12       10  Female  103994\n",
      "61  AssocProf          B   13       10  Female  103750\n",
      "62  AssocProf          B   14        7  Female  109650\n",
      "65       Prof          A   36       19  Female  117555\n",
      "69       Prof          A   28        7  Female  116450\n",
      "72       Prof          B   24       15  Female  161101\n",
      "73       Prof          B   18       10  Female  105450\n",
      "74  AssocProf          B   19        6  Female  104542\n",
      "75       Prof          B   17       17  Female  124312\n",
      "76       Prof          A   28       14  Female  109954\n",
      "77       Prof          A   23       15  Female  109646\n"
     ]
    }
   ],
   "source": [
    "print(df5[df5['salary']>100000])"
   ]
  },
  {
   "cell_type": "markdown",
   "id": "bab82755-91ce-4840-a39b-1ba6750ca3a9",
   "metadata": {},
   "source": [
    "     e) display records whose salary is less than 100000."
   ]
  },
  {
   "cell_type": "code",
   "execution_count": 268,
   "id": "8b9b51fb-96d1-4266-9e7d-55e8f79618fd",
   "metadata": {},
   "outputs": [
    {
     "name": "stdout",
     "output_type": "stream",
     "text": [
      "         rank discipline  phd  service     sex  salary\n",
      "1        Prof          A   12        6    Male   93000\n",
      "6   AssocProf          A   20       17    Male   81285\n",
      "8        Prof          A   29       19    Male   94350\n",
      "9        Prof          A   51       51    Male   57800\n",
      "12   AsstProf          B    1        0    Male   88000\n",
      "16   AsstProf          B    8        3    Male   75044\n",
      "17   AsstProf          B    4        0    Male   92000\n",
      "20   AsstProf          B    4        4    Male   92000\n",
      "22   AsstProf          A    4        2    Male   73000\n",
      "23   AsstProf          A    2        0    Male   85000\n",
      "24       Prof          A   30       23    Male   91100\n",
      "25       Prof          B   35       31    Male   99418\n",
      "28   AsstProf          B    7        2    Male   91300\n",
      "38   AsstProf          B    4        3    Male   91000\n",
      "41  AssocProf          A   13        8  Female   74830\n",
      "42   AsstProf          B    4        2  Female   80225\n",
      "43   AsstProf          B    5        0  Female   77000\n",
      "46   AsstProf          B   11        3  Female   74692\n",
      "50   AsstProf          B   10        5  Female   97032\n",
      "53   AsstProf          A    5        3  Female   73500\n",
      "54  AssocProf          A   25       22  Female   62884\n",
      "55   AsstProf          A    2        0  Female   72500\n",
      "56  AssocProf          A   10        8  Female   77500\n",
      "57   AsstProf          A    3        1  Female   72500\n",
      "60   AsstProf          B    3        3  Female   92000\n",
      "63       Prof          A   29       27  Female   91000\n",
      "64  AssocProf          A   26       24  Female   73300\n",
      "66   AsstProf          A    7        6  Female   63100\n",
      "67       Prof          A   17       11  Female   90450\n",
      "68   AsstProf          A    4        2  Female   77500\n",
      "70   AsstProf          A    8        3  Female   78500\n",
      "71  AssocProf          B   12        9  Female   71065\n"
     ]
    }
   ],
   "source": [
    "print(df5[df5['salary']<100000])"
   ]
  },
  {
   "cell_type": "markdown",
   "id": "495a987d-b8e5-40c0-957a-54155d62cdef",
   "metadata": {},
   "source": [
    "xv)  a) display records whose discipline is A."
   ]
  },
  {
   "cell_type": "code",
   "execution_count": 269,
   "id": "16653c06-07a7-4dc4-be54-0b29ec19b454",
   "metadata": {},
   "outputs": [
    {
     "name": "stdout",
     "output_type": "stream",
     "text": [
      "         rank discipline  phd  service     sex  salary\n",
      "1        Prof          A   12        6    Male   93000\n",
      "2        Prof          A   23       20    Male  110515\n",
      "3        Prof          A   40       31    Male  131205\n",
      "5        Prof          A   20       20    Male  122400\n",
      "6   AssocProf          A   20       17    Male   81285\n",
      "7        Prof          A   18       18    Male  126300\n",
      "8        Prof          A   29       19    Male   94350\n",
      "9        Prof          A   51       51    Male   57800\n",
      "18       Prof          A   19        7    Male  107300\n",
      "19       Prof          A   29       27    Male  150500\n",
      "21       Prof          A   33       30    Male  103106\n",
      "22   AsstProf          A    4        2    Male   73000\n",
      "23   AsstProf          A    2        0    Male   85000\n",
      "24       Prof          A   30       23    Male   91100\n",
      "26       Prof          A   38       19    Male  148750\n",
      "27       Prof          A   45       43    Male  155865\n",
      "32       Prof          A   27       19    Male  103275\n",
      "37       Prof          A   20        8    Male  102000\n",
      "40       Prof          A   39       36  Female  137000\n",
      "41  AssocProf          A   13        8  Female   74830\n",
      "52       Prof          A   12        0  Female  105000\n",
      "53   AsstProf          A    5        3  Female   73500\n",
      "54  AssocProf          A   25       22  Female   62884\n",
      "55   AsstProf          A    2        0  Female   72500\n",
      "56  AssocProf          A   10        8  Female   77500\n",
      "57   AsstProf          A    3        1  Female   72500\n",
      "63       Prof          A   29       27  Female   91000\n",
      "64  AssocProf          A   26       24  Female   73300\n",
      "65       Prof          A   36       19  Female  117555\n",
      "66   AsstProf          A    7        6  Female   63100\n",
      "67       Prof          A   17       11  Female   90450\n",
      "68   AsstProf          A    4        2  Female   77500\n",
      "69       Prof          A   28        7  Female  116450\n",
      "70   AsstProf          A    8        3  Female   78500\n",
      "76       Prof          A   28       14  Female  109954\n",
      "77       Prof          A   23       15  Female  109646\n"
     ]
    }
   ],
   "source": [
    "print(df5[df5['discipline']=='A'])"
   ]
  },
  {
   "cell_type": "markdown",
   "id": "170cfa79-ddac-431c-a763-b980d0f7fe30",
   "metadata": {},
   "source": [
    "  b) display records whose discipline is B."
   ]
  },
  {
   "cell_type": "code",
   "execution_count": 270,
   "id": "ed494dfa-c4bd-435d-9c74-a59a0dae7cdc",
   "metadata": {},
   "outputs": [
    {
     "name": "stdout",
     "output_type": "stream",
     "text": [
      "         rank discipline  phd  service     sex  salary\n",
      "0        Prof          B   56       49    Male  186960\n",
      "4        Prof          B   20       18    Male  104800\n",
      "10       Prof          B   39       33    Male  128250\n",
      "11       Prof          B   23       23    Male  134778\n",
      "12   AsstProf          B    1        0    Male   88000\n",
      "13       Prof          B   35       33    Male  162200\n",
      "14       Prof          B   25       19    Male  153750\n",
      "15       Prof          B   17        3    Male  150480\n",
      "16   AsstProf          B    8        3    Male   75044\n",
      "17   AsstProf          B    4        0    Male   92000\n",
      "20   AsstProf          B    4        4    Male   92000\n",
      "25       Prof          B   35       31    Male   99418\n",
      "28   AsstProf          B    7        2    Male   91300\n",
      "29       Prof          B   21       20    Male  123683\n",
      "30  AssocProf          B    9        7    Male  107008\n",
      "31       Prof          B   22       21    Male  155750\n",
      "33       Prof          B   18       18    Male  120000\n",
      "34  AssocProf          B   12        8    Male  119800\n",
      "35       Prof          B   28       23    Male  126933\n",
      "36       Prof          B   45       45    Male  146856\n",
      "38   AsstProf          B    4        3    Male   91000\n",
      "39       Prof          B   18       18  Female  129000\n",
      "42   AsstProf          B    4        2  Female   80225\n",
      "43   AsstProf          B    5        0  Female   77000\n",
      "44       Prof          B   23       19  Female  151768\n",
      "45       Prof          B   25       25  Female  140096\n",
      "46   AsstProf          B   11        3  Female   74692\n",
      "47  AssocProf          B   11       11  Female  103613\n",
      "48       Prof          B   17       17  Female  111512\n",
      "49       Prof          B   17       18  Female  122960\n",
      "50   AsstProf          B   10        5  Female   97032\n",
      "51       Prof          B   20       14  Female  127512\n",
      "58       Prof          B   36       26  Female  144651\n",
      "59  AssocProf          B   12       10  Female  103994\n",
      "60   AsstProf          B    3        3  Female   92000\n",
      "61  AssocProf          B   13       10  Female  103750\n",
      "62  AssocProf          B   14        7  Female  109650\n",
      "71  AssocProf          B   12        9  Female   71065\n",
      "72       Prof          B   24       15  Female  161101\n",
      "73       Prof          B   18       10  Female  105450\n",
      "74  AssocProf          B   19        6  Female  104542\n",
      "75       Prof          B   17       17  Female  124312\n"
     ]
    }
   ],
   "source": [
    "print(df5[df5['discipline']=='B'])"
   ]
  },
  {
   "cell_type": "markdown",
   "id": "2d9d32bb-59cd-4fc8-9c5b-5c59d1f65978",
   "metadata": {},
   "source": [
    "     c) display records whose service is greater than 10."
   ]
  },
  {
   "cell_type": "code",
   "execution_count": 271,
   "id": "cdf9a5f4-1a8e-486b-84fb-2bedd8aec378",
   "metadata": {},
   "outputs": [
    {
     "name": "stdout",
     "output_type": "stream",
     "text": [
      "         rank discipline  phd  service     sex  salary\n",
      "0        Prof          B   56       49    Male  186960\n",
      "2        Prof          A   23       20    Male  110515\n",
      "3        Prof          A   40       31    Male  131205\n",
      "4        Prof          B   20       18    Male  104800\n",
      "5        Prof          A   20       20    Male  122400\n",
      "6   AssocProf          A   20       17    Male   81285\n",
      "7        Prof          A   18       18    Male  126300\n",
      "8        Prof          A   29       19    Male   94350\n",
      "9        Prof          A   51       51    Male   57800\n",
      "10       Prof          B   39       33    Male  128250\n",
      "11       Prof          B   23       23    Male  134778\n",
      "13       Prof          B   35       33    Male  162200\n",
      "14       Prof          B   25       19    Male  153750\n",
      "19       Prof          A   29       27    Male  150500\n",
      "21       Prof          A   33       30    Male  103106\n",
      "24       Prof          A   30       23    Male   91100\n",
      "25       Prof          B   35       31    Male   99418\n",
      "26       Prof          A   38       19    Male  148750\n",
      "27       Prof          A   45       43    Male  155865\n",
      "29       Prof          B   21       20    Male  123683\n",
      "31       Prof          B   22       21    Male  155750\n",
      "32       Prof          A   27       19    Male  103275\n",
      "33       Prof          B   18       18    Male  120000\n",
      "35       Prof          B   28       23    Male  126933\n",
      "36       Prof          B   45       45    Male  146856\n",
      "39       Prof          B   18       18  Female  129000\n",
      "40       Prof          A   39       36  Female  137000\n",
      "44       Prof          B   23       19  Female  151768\n",
      "45       Prof          B   25       25  Female  140096\n",
      "47  AssocProf          B   11       11  Female  103613\n",
      "48       Prof          B   17       17  Female  111512\n",
      "49       Prof          B   17       18  Female  122960\n",
      "51       Prof          B   20       14  Female  127512\n",
      "54  AssocProf          A   25       22  Female   62884\n",
      "58       Prof          B   36       26  Female  144651\n",
      "63       Prof          A   29       27  Female   91000\n",
      "64  AssocProf          A   26       24  Female   73300\n",
      "65       Prof          A   36       19  Female  117555\n",
      "67       Prof          A   17       11  Female   90450\n",
      "72       Prof          B   24       15  Female  161101\n",
      "75       Prof          B   17       17  Female  124312\n",
      "76       Prof          A   28       14  Female  109954\n",
      "77       Prof          A   23       15  Female  109646\n"
     ]
    }
   ],
   "source": [
    "print(df5[df5['service']>10])"
   ]
  },
  {
   "cell_type": "markdown",
   "id": "faf53111-c9f7-4207-90f8-ef79172cdf60",
   "metadata": {},
   "source": [
    "d) display records whose service is less than 5."
   ]
  },
  {
   "cell_type": "code",
   "execution_count": 272,
   "id": "924ac8c1-ef6c-4e2e-aafd-d57b4b0e2c14",
   "metadata": {},
   "outputs": [
    {
     "name": "stdout",
     "output_type": "stream",
     "text": [
      "        rank discipline  phd  service     sex  salary\n",
      "12  AsstProf          B    1        0    Male   88000\n",
      "15      Prof          B   17        3    Male  150480\n",
      "16  AsstProf          B    8        3    Male   75044\n",
      "17  AsstProf          B    4        0    Male   92000\n",
      "20  AsstProf          B    4        4    Male   92000\n",
      "22  AsstProf          A    4        2    Male   73000\n",
      "23  AsstProf          A    2        0    Male   85000\n",
      "28  AsstProf          B    7        2    Male   91300\n",
      "38  AsstProf          B    4        3    Male   91000\n",
      "42  AsstProf          B    4        2  Female   80225\n",
      "43  AsstProf          B    5        0  Female   77000\n",
      "46  AsstProf          B   11        3  Female   74692\n",
      "52      Prof          A   12        0  Female  105000\n",
      "53  AsstProf          A    5        3  Female   73500\n",
      "55  AsstProf          A    2        0  Female   72500\n",
      "57  AsstProf          A    3        1  Female   72500\n",
      "60  AsstProf          B    3        3  Female   92000\n",
      "68  AsstProf          A    4        2  Female   77500\n",
      "70  AsstProf          A    8        3  Female   78500\n"
     ]
    }
   ],
   "source": [
    "print(df5[df5['service']<5])"
   ]
  },
  {
   "cell_type": "markdown",
   "id": "a4909883-d012-4e55-a717-a6c334bedbf5",
   "metadata": {},
   "source": [
    "xvi) a) display records of phd and salary."
   ]
  },
  {
   "cell_type": "code",
   "execution_count": 276,
   "id": "71d089e1-c4d7-4856-83b7-bae9b18ced1c",
   "metadata": {},
   "outputs": [
    {
     "name": "stdout",
     "output_type": "stream",
     "text": [
      "    phd  salary\n",
      "0    56  186960\n",
      "1    12   93000\n",
      "2    23  110515\n",
      "3    40  131205\n",
      "4    20  104800\n",
      "..  ...     ...\n",
      "73   18  105450\n",
      "74   19  104542\n",
      "75   17  124312\n",
      "76   28  109954\n",
      "77   23  109646\n",
      "\n",
      "[78 rows x 2 columns]\n"
     ]
    }
   ],
   "source": [
    "print(df5[['phd','salary']])"
   ]
  },
  {
   "cell_type": "markdown",
   "id": "2e3eacd7-4c7a-4109-afde-bf11a69ea9c9",
   "metadata": {},
   "source": [
    "     b) display records of rank, sex and salary."
   ]
  },
  {
   "cell_type": "code",
   "execution_count": 277,
   "id": "27358e33-b12d-470d-8d93-48c076816ac1",
   "metadata": {},
   "outputs": [
    {
     "name": "stdout",
     "output_type": "stream",
     "text": [
      "         rank     sex  salary\n",
      "0        Prof    Male  186960\n",
      "1        Prof    Male   93000\n",
      "2        Prof    Male  110515\n",
      "3        Prof    Male  131205\n",
      "4        Prof    Male  104800\n",
      "..        ...     ...     ...\n",
      "73       Prof  Female  105450\n",
      "74  AssocProf  Female  104542\n",
      "75       Prof  Female  124312\n",
      "76       Prof  Female  109954\n",
      "77       Prof  Female  109646\n",
      "\n",
      "[78 rows x 3 columns]\n"
     ]
    }
   ],
   "source": [
    "print(df5[['rank','sex','salary']])"
   ]
  },
  {
   "cell_type": "markdown",
   "id": "be1d74e3-9b70-4af6-a5b9-fb15f5783850",
   "metadata": {},
   "source": [
    "     c) display records without salary."
   ]
  },
  {
   "cell_type": "code",
   "execution_count": 282,
   "id": "e2c4fa4b-705f-4f65-b711-49ec5b4b7c20",
   "metadata": {},
   "outputs": [
    {
     "name": "stdout",
     "output_type": "stream",
     "text": [
      "         rank discipline  phd  service     sex\n",
      "0        Prof          B   56       49    Male\n",
      "1        Prof          A   12        6    Male\n",
      "2        Prof          A   23       20    Male\n",
      "3        Prof          A   40       31    Male\n",
      "4        Prof          B   20       18    Male\n",
      "..        ...        ...  ...      ...     ...\n",
      "73       Prof          B   18       10  Female\n",
      "74  AssocProf          B   19        6  Female\n",
      "75       Prof          B   17       17  Female\n",
      "76       Prof          A   28       14  Female\n",
      "77       Prof          A   23       15  Female\n",
      "\n",
      "[78 rows x 5 columns]\n"
     ]
    }
   ],
   "source": [
    "print(df5[[col for col in df5.columns if col !='salary']])"
   ]
  },
  {
   "cell_type": "markdown",
   "id": "990d2047-7ea3-4784-8973-6f3d1cf360b7",
   "metadata": {},
   "source": [
    "     d) display first 50 records with rank,service and salary."
   ]
  },
  {
   "cell_type": "code",
   "execution_count": 284,
   "id": "9cf594e1-e9f4-4d30-8e10-3c92949f3c49",
   "metadata": {},
   "outputs": [
    {
     "name": "stdout",
     "output_type": "stream",
     "text": [
      "         rank  service  salary\n",
      "0        Prof       49  186960\n",
      "1        Prof        6   93000\n",
      "2        Prof       20  110515\n",
      "3        Prof       31  131205\n",
      "4        Prof       18  104800\n",
      "5        Prof       20  122400\n",
      "6   AssocProf       17   81285\n",
      "7        Prof       18  126300\n",
      "8        Prof       19   94350\n",
      "9        Prof       51   57800\n",
      "10       Prof       33  128250\n",
      "11       Prof       23  134778\n",
      "12   AsstProf        0   88000\n",
      "13       Prof       33  162200\n",
      "14       Prof       19  153750\n",
      "15       Prof        3  150480\n",
      "16   AsstProf        3   75044\n",
      "17   AsstProf        0   92000\n",
      "18       Prof        7  107300\n",
      "19       Prof       27  150500\n",
      "20   AsstProf        4   92000\n",
      "21       Prof       30  103106\n",
      "22   AsstProf        2   73000\n",
      "23   AsstProf        0   85000\n",
      "24       Prof       23   91100\n",
      "25       Prof       31   99418\n",
      "26       Prof       19  148750\n",
      "27       Prof       43  155865\n",
      "28   AsstProf        2   91300\n",
      "29       Prof       20  123683\n",
      "30  AssocProf        7  107008\n",
      "31       Prof       21  155750\n",
      "32       Prof       19  103275\n",
      "33       Prof       18  120000\n",
      "34  AssocProf        8  119800\n",
      "35       Prof       23  126933\n",
      "36       Prof       45  146856\n",
      "37       Prof        8  102000\n",
      "38   AsstProf        3   91000\n",
      "39       Prof       18  129000\n",
      "40       Prof       36  137000\n",
      "41  AssocProf        8   74830\n",
      "42   AsstProf        2   80225\n",
      "43   AsstProf        0   77000\n",
      "44       Prof       19  151768\n",
      "45       Prof       25  140096\n",
      "46   AsstProf        3   74692\n",
      "47  AssocProf       11  103613\n",
      "48       Prof       17  111512\n",
      "49       Prof       18  122960\n"
     ]
    }
   ],
   "source": [
    "print(df5[['rank','service','salary']].head(50))"
   ]
  },
  {
   "cell_type": "markdown",
   "id": "b61fd5b8-7462-4045-9650-7b5e25356e34",
   "metadata": {},
   "source": [
    "     e) display records whose rank is Prof."
   ]
  },
  {
   "cell_type": "code",
   "execution_count": 285,
   "id": "997ed47f-be30-47f6-9839-c506dfff3f37",
   "metadata": {},
   "outputs": [
    {
     "name": "stdout",
     "output_type": "stream",
     "text": [
      "    rank discipline  phd  service     sex  salary\n",
      "0   Prof          B   56       49    Male  186960\n",
      "1   Prof          A   12        6    Male   93000\n",
      "2   Prof          A   23       20    Male  110515\n",
      "3   Prof          A   40       31    Male  131205\n",
      "4   Prof          B   20       18    Male  104800\n",
      "5   Prof          A   20       20    Male  122400\n",
      "7   Prof          A   18       18    Male  126300\n",
      "8   Prof          A   29       19    Male   94350\n",
      "9   Prof          A   51       51    Male   57800\n",
      "10  Prof          B   39       33    Male  128250\n",
      "11  Prof          B   23       23    Male  134778\n",
      "13  Prof          B   35       33    Male  162200\n",
      "14  Prof          B   25       19    Male  153750\n",
      "15  Prof          B   17        3    Male  150480\n",
      "18  Prof          A   19        7    Male  107300\n",
      "19  Prof          A   29       27    Male  150500\n",
      "21  Prof          A   33       30    Male  103106\n",
      "24  Prof          A   30       23    Male   91100\n",
      "25  Prof          B   35       31    Male   99418\n",
      "26  Prof          A   38       19    Male  148750\n",
      "27  Prof          A   45       43    Male  155865\n",
      "29  Prof          B   21       20    Male  123683\n",
      "31  Prof          B   22       21    Male  155750\n",
      "32  Prof          A   27       19    Male  103275\n",
      "33  Prof          B   18       18    Male  120000\n",
      "35  Prof          B   28       23    Male  126933\n",
      "36  Prof          B   45       45    Male  146856\n",
      "37  Prof          A   20        8    Male  102000\n",
      "39  Prof          B   18       18  Female  129000\n",
      "40  Prof          A   39       36  Female  137000\n",
      "44  Prof          B   23       19  Female  151768\n",
      "45  Prof          B   25       25  Female  140096\n",
      "48  Prof          B   17       17  Female  111512\n",
      "49  Prof          B   17       18  Female  122960\n",
      "51  Prof          B   20       14  Female  127512\n",
      "52  Prof          A   12        0  Female  105000\n",
      "58  Prof          B   36       26  Female  144651\n",
      "63  Prof          A   29       27  Female   91000\n",
      "65  Prof          A   36       19  Female  117555\n",
      "67  Prof          A   17       11  Female   90450\n",
      "69  Prof          A   28        7  Female  116450\n",
      "72  Prof          B   24       15  Female  161101\n",
      "73  Prof          B   18       10  Female  105450\n",
      "75  Prof          B   17       17  Female  124312\n",
      "76  Prof          A   28       14  Female  109954\n",
      "77  Prof          A   23       15  Female  109646\n"
     ]
    }
   ],
   "source": [
    "print(df5[df5['rank']=='Prof'])"
   ]
  },
  {
   "cell_type": "markdown",
   "id": "b98aa98c-1447-4eec-924e-bbe403b3dbb9",
   "metadata": {},
   "source": [
    "     f) display records whose rank is AssocProf. "
   ]
  },
  {
   "cell_type": "code",
   "execution_count": 286,
   "id": "70168305-9f00-4876-9c71-610982a82318",
   "metadata": {},
   "outputs": [
    {
     "name": "stdout",
     "output_type": "stream",
     "text": [
      "         rank discipline  phd  service     sex  salary\n",
      "6   AssocProf          A   20       17    Male   81285\n",
      "30  AssocProf          B    9        7    Male  107008\n",
      "34  AssocProf          B   12        8    Male  119800\n",
      "41  AssocProf          A   13        8  Female   74830\n",
      "47  AssocProf          B   11       11  Female  103613\n",
      "54  AssocProf          A   25       22  Female   62884\n",
      "56  AssocProf          A   10        8  Female   77500\n",
      "59  AssocProf          B   12       10  Female  103994\n",
      "61  AssocProf          B   13       10  Female  103750\n",
      "62  AssocProf          B   14        7  Female  109650\n",
      "64  AssocProf          A   26       24  Female   73300\n",
      "71  AssocProf          B   12        9  Female   71065\n",
      "74  AssocProf          B   19        6  Female  104542\n"
     ]
    }
   ],
   "source": [
    "print(df5[df5['rank']=='AssocProf'])"
   ]
  },
  {
   "cell_type": "code",
   "execution_count": null,
   "id": "057e35a4-40f9-496b-8fa4-787c86ec33cd",
   "metadata": {},
   "outputs": [],
   "source": []
  }
 ],
 "metadata": {
  "kernelspec": {
   "display_name": "Python 3 (ipykernel)",
   "language": "python",
   "name": "python3"
  },
  "language_info": {
   "codemirror_mode": {
    "name": "ipython",
    "version": 3
   },
   "file_extension": ".py",
   "mimetype": "text/x-python",
   "name": "python",
   "nbconvert_exporter": "python",
   "pygments_lexer": "ipython3",
   "version": "3.11.5"
  }
 },
 "nbformat": 4,
 "nbformat_minor": 5
}
