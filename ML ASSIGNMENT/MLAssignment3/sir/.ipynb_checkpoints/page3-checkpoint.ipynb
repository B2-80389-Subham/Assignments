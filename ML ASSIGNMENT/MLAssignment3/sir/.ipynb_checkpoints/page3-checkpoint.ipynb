{
 "cells": [
  {
   "cell_type": "markdown",
   "id": "fe426de6-5296-4850-ac78-5a1d030d1e62",
   "metadata": {},
   "source": [
    "# Clustering"
   ]
  },
  {
   "cell_type": "markdown",
   "id": "6eb16bcb-84ea-49be-9e88-f46b0879e020",
   "metadata": {},
   "source": [
    "## KMeans Clustering"
   ]
  },
  {
   "cell_type": "markdown",
   "id": "d2b1d2fc-5a06-46c3-a642-0382adfb721d",
   "metadata": {},
   "source": [
    "### import required packages"
   ]
  },
  {
   "cell_type": "code",
   "execution_count": 44,
   "id": "24cbaaf4-58cc-4e6d-a517-11fb8dd21818",
   "metadata": {},
   "outputs": [],
   "source": [
    "import pandas as pd\n",
    "import numpy as np\n",
    "import matplotlib.pyplot as plt\n",
    "# import seaboard as sns"
   ]
  },
  {
   "cell_type": "markdown",
   "id": "4d2d1b90-2a78-418b-8fb6-bfc04b83d010",
   "metadata": {},
   "source": [
    "### load the data from data source"
   ]
  },
  {
   "cell_type": "code",
   "execution_count": 46,
   "id": "f9513db9-b1c2-4fa0-8eec-696c9fe9c729",
   "metadata": {},
   "outputs": [
    {
     "name": "stdout",
     "output_type": "stream",
     "text": [
      "     CustomerID  Gender  Age  Annual Income (k$)  Spending Score (1-100)\n",
      "0             1    Male   19                  15                      39\n",
      "1             2    Male   21                  15                      81\n",
      "2             3  Female   20                  16                       6\n",
      "3             4  Female   23                  16                      77\n",
      "4             5  Female   31                  17                      40\n",
      "..          ...     ...  ...                 ...                     ...\n",
      "195         196  Female   35                 120                      79\n",
      "196         197  Female   45                 126                      28\n",
      "197         198    Male   32                 126                      74\n",
      "198         199    Male   32                 137                      18\n",
      "199         200    Male   30                 137                      83\n",
      "\n",
      "[200 rows x 5 columns]\n"
     ]
    }
   ],
   "source": [
    "df = pd.read_csv('/tmp/Mall_Customers.csv')"
   ]
  },
  {
   "cell_type": "code",
   "execution_count": 49,
   "id": "c4ecd6bd-73d5-4ab2-9803-7dac199d57ab",
   "metadata": {},
   "outputs": [],
   "source": [
    "# remove the columns\n",
    "df.drop(['Gender', 'CustomerID', 'Age'], axis=1, inplace=True)\n",
    "\n",
    "# rename the columns\n",
    "df.rename({\n",
    "    \"Annual Income (k$)\": \"income\", \n",
    "    \"Spending Score (1-100)\": \"score\"\n",
    "}, axis=1, inplace=True)"
   ]
  },
  {
   "cell_type": "code",
   "execution_count": 50,
   "id": "3d2c0abb-73b4-4e95-8e75-4b0632fb52aa",
   "metadata": {},
   "outputs": [
    {
     "data": {
      "text/plain": [
       "Index(['income', 'score'], dtype='object')"
      ]
     },
     "execution_count": 50,
     "metadata": {},
     "output_type": "execute_result"
    }
   ],
   "source": [
    "df.columns"
   ]
  },
  {
   "cell_type": "markdown",
   "id": "0317d9cd-848c-4e73-967e-dbf0ee7378ba",
   "metadata": {},
   "source": [
    "### Exploratory Data Analysis"
   ]
  },
  {
   "cell_type": "markdown",
   "id": "60630c17-8fc0-4082-8d7e-718ed2c36d48",
   "metadata": {},
   "source": [
    "- find the optimum value of k"
   ]
  },
  {
   "cell_type": "code",
   "execution_count": 47,
   "id": "da467eac-8e12-4e92-9b33-f5a52e7f08fc",
   "metadata": {},
   "outputs": [],
   "source": [
    "from sklearn.cluster import KMeans"
   ]
  },
  {
   "cell_type": "code",
   "execution_count": 51,
   "id": "23b20350-7128-4b32-bbbc-8ad8b731aefb",
   "metadata": {},
   "outputs": [
    {
     "name": "stdout",
     "output_type": "stream",
     "text": [
      "[269981.28, 181363.595959596, 106348.37306211118, 73679.78903948836, 44448.45544793371, 37233.81451071001, 30241.343617936585, 25056.895153616188, 21862.09267218289, 19775.97623125676]\n"
     ]
    },
    {
     "name": "stderr",
     "output_type": "stream",
     "text": [
      "/opt/homebrew/lib/python3.11/site-packages/sklearn/cluster/_kmeans.py:1416: FutureWarning: The default value of `n_init` will change from 10 to 'auto' in 1.4. Set the value of `n_init` explicitly to suppress the warning\n",
      "  super()._check_params_vs_input(X, default_n_init=10)\n",
      "/opt/homebrew/lib/python3.11/site-packages/sklearn/cluster/_kmeans.py:1416: FutureWarning: The default value of `n_init` will change from 10 to 'auto' in 1.4. Set the value of `n_init` explicitly to suppress the warning\n",
      "  super()._check_params_vs_input(X, default_n_init=10)\n",
      "/opt/homebrew/lib/python3.11/site-packages/sklearn/cluster/_kmeans.py:1416: FutureWarning: The default value of `n_init` will change from 10 to 'auto' in 1.4. Set the value of `n_init` explicitly to suppress the warning\n",
      "  super()._check_params_vs_input(X, default_n_init=10)\n",
      "/opt/homebrew/lib/python3.11/site-packages/sklearn/cluster/_kmeans.py:1416: FutureWarning: The default value of `n_init` will change from 10 to 'auto' in 1.4. Set the value of `n_init` explicitly to suppress the warning\n",
      "  super()._check_params_vs_input(X, default_n_init=10)\n",
      "/opt/homebrew/lib/python3.11/site-packages/sklearn/cluster/_kmeans.py:1416: FutureWarning: The default value of `n_init` will change from 10 to 'auto' in 1.4. Set the value of `n_init` explicitly to suppress the warning\n",
      "  super()._check_params_vs_input(X, default_n_init=10)\n",
      "/opt/homebrew/lib/python3.11/site-packages/sklearn/cluster/_kmeans.py:1416: FutureWarning: The default value of `n_init` will change from 10 to 'auto' in 1.4. Set the value of `n_init` explicitly to suppress the warning\n",
      "  super()._check_params_vs_input(X, default_n_init=10)\n",
      "/opt/homebrew/lib/python3.11/site-packages/sklearn/cluster/_kmeans.py:1416: FutureWarning: The default value of `n_init` will change from 10 to 'auto' in 1.4. Set the value of `n_init` explicitly to suppress the warning\n",
      "  super()._check_params_vs_input(X, default_n_init=10)\n",
      "/opt/homebrew/lib/python3.11/site-packages/sklearn/cluster/_kmeans.py:1416: FutureWarning: The default value of `n_init` will change from 10 to 'auto' in 1.4. Set the value of `n_init` explicitly to suppress the warning\n",
      "  super()._check_params_vs_input(X, default_n_init=10)\n",
      "/opt/homebrew/lib/python3.11/site-packages/sklearn/cluster/_kmeans.py:1416: FutureWarning: The default value of `n_init` will change from 10 to 'auto' in 1.4. Set the value of `n_init` explicitly to suppress the warning\n",
      "  super()._check_params_vs_input(X, default_n_init=10)\n",
      "/opt/homebrew/lib/python3.11/site-packages/sklearn/cluster/_kmeans.py:1416: FutureWarning: The default value of `n_init` will change from 10 to 'auto' in 1.4. Set the value of `n_init` explicitly to suppress the warning\n",
      "  super()._check_params_vs_input(X, default_n_init=10)\n"
     ]
    }
   ],
   "source": [
    "# collect wss for every k value \n",
    "wss = []\n",
    "\n",
    "# collect within cluster variations for k from 1 to 10\n",
    "for k in range(1, 11):\n",
    "    # create an object of kmeans\n",
    "    kmeans_model = KMeans(n_clusters=k, random_state=12345)\n",
    "\n",
    "    # fit the data\n",
    "    kmeans_model.fit(df)\n",
    "\n",
    "    # collect the within cluster variation\n",
    "    wss.append(kmeans_model.inertia_)\n",
    "\n",
    "print(wss)"
   ]
  },
  {
   "cell_type": "markdown",
   "id": "32fa0577-b13b-4a62-a15c-30bb37e877a5",
   "metadata": {},
   "source": [
    "### find the elbow point"
   ]
  },
  {
   "cell_type": "code",
   "execution_count": 53,
   "id": "c702be57-8aa8-448f-a972-85dfc69a1ec4",
   "metadata": {},
   "outputs": [
    {
     "data": {
      "text/plain": [
       "Text(0, 0.5, 'Sum of Squares of within cluster variations')"
      ]
     },
     "execution_count": 53,
     "metadata": {},
     "output_type": "execute_result"
    },
    {
     "data": {
      "image/png": "[encoded data removed]",
      "text/plain": [
       "<Figure size 640x480 with 1 Axes>"
      ]
     },
     "metadata": {},
     "output_type": "display_data"
    }
   ],
   "source": [
    "# generate the k values from 1 to 11\n",
    "x = np.arange(1, 11)\n",
    "\n",
    "plt.plot(x, wss)\n",
    "plt.title(\"Elbow method\")\n",
    "plt.xlabel(\"no of clusters\")\n",
    "plt.ylabel(\"Sum of Squares of within cluster variations\")"
   ]
  },
  {
   "cell_type": "code",
   "execution_count": null,
   "id": "51d5f65a-43f2-4ce4-bb6f-9f14e1601760",
   "metadata": {},
   "outputs": [],
   "source": []
  }
 ],
 "metadata": {
  "kernelspec": {
   "display_name": "Python 3 (ipykernel)",
   "language": "python",
   "name": "python3"
  },
  "language_info": {
   "codemirror_mode": {
    "name": "ipython",
    "version": 3
   },
   "file_extension": ".py",
   "mimetype": "text/x-python",
   "name": "python",
   "nbconvert_exporter": "python",
   "pygments_lexer": "ipython3",
   "version": "3.11.3"
  }
 },
 "nbformat": 4,
 "nbformat_minor": 5
}
